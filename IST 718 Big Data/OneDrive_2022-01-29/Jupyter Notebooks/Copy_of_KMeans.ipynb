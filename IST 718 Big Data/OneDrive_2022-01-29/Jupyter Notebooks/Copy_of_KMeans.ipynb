{
  "nbformat": 4,
  "nbformat_minor": 0,
  "metadata": {
    "colab": {
      "name": "Copy of KMeans.ipynb",
      "provenance": [],
      "collapsed_sections": []
    },
    "kernelspec": {
      "name": "python3",
      "display_name": "Python 3"
    },
    "language_info": {
      "name": "python"
    }
  },
  "cells": [
    {
      "cell_type": "code",
      "metadata": {
        "id": "SVWVMgT_5A3z"
      },
      "source": [
        "#importing necessary packages\n",
        "import pandas as pd\n",
        "import numpy as np\n",
        "from sklearn.cluster import KMeans"
      ],
      "execution_count": null,
      "outputs": []
    },
    {
      "cell_type": "code",
      "metadata": {
        "id": "Q5lccx4y5Md5"
      },
      "source": [
        "#reading in 86 row dataset \n",
        "whiskey_quant = pd.read_csv('https://raw.githubusercontent.com/schulzmf/IST718/main/projectwhisky_quant_clean.csv')"
      ],
      "execution_count": null,
      "outputs": []
    },
    {
      "cell_type": "code",
      "metadata": {
        "id": "Ji2Nl7WS5QRQ"
      },
      "source": [
        "#making file a dataframe\n",
        "whiskey_quant = pd.DataFrame(whiskey_quant)"
      ],
      "execution_count": null,
      "outputs": []
    },
    {
      "cell_type": "code",
      "metadata": {
        "colab": {
          "base_uri": "https://localhost:8080/",
          "height": 455
        },
        "id": "AtCWT_5REO-m",
        "outputId": "fa1fab18-f8b4-4028-fa20-337b4805bda6"
      },
      "source": [
        "#setting distillery as the index\n",
        "whiskey_quant.set_index('Distillery')"
      ],
      "execution_count": null,
      "outputs": [
        {
          "output_type": "execute_result",
          "data": {
            "text/html": [
              "<div>\n",
              "<style scoped>\n",
              "    .dataframe tbody tr th:only-of-type {\n",
              "        vertical-align: middle;\n",
              "    }\n",
              "\n",
              "    .dataframe tbody tr th {\n",
              "        vertical-align: top;\n",
              "    }\n",
              "\n",
              "    .dataframe thead th {\n",
              "        text-align: right;\n",
              "    }\n",
              "</style>\n",
              "<table border=\"1\" class=\"dataframe\">\n",
              "  <thead>\n",
              "    <tr style=\"text-align: right;\">\n",
              "      <th></th>\n",
              "      <th>Unnamed: 0</th>\n",
              "      <th>DistCode</th>\n",
              "      <th>Body</th>\n",
              "      <th>Sweetness</th>\n",
              "      <th>Smoky</th>\n",
              "      <th>Medicinal</th>\n",
              "      <th>Tobacco</th>\n",
              "      <th>Honey</th>\n",
              "      <th>Spicy</th>\n",
              "      <th>Winey</th>\n",
              "      <th>Nutty</th>\n",
              "      <th>Malty</th>\n",
              "      <th>Fruity</th>\n",
              "      <th>Floral</th>\n",
              "      <th>Latitude</th>\n",
              "      <th>Longitude</th>\n",
              "      <th>%alc</th>\n",
              "      <th>review_point</th>\n",
              "      <th>price</th>\n",
              "    </tr>\n",
              "    <tr>\n",
              "      <th>Distillery</th>\n",
              "      <th></th>\n",
              "      <th></th>\n",
              "      <th></th>\n",
              "      <th></th>\n",
              "      <th></th>\n",
              "      <th></th>\n",
              "      <th></th>\n",
              "      <th></th>\n",
              "      <th></th>\n",
              "      <th></th>\n",
              "      <th></th>\n",
              "      <th></th>\n",
              "      <th></th>\n",
              "      <th></th>\n",
              "      <th></th>\n",
              "      <th></th>\n",
              "      <th></th>\n",
              "      <th></th>\n",
              "      <th></th>\n",
              "    </tr>\n",
              "  </thead>\n",
              "  <tbody>\n",
              "    <tr>\n",
              "      <th>Aberfeldy</th>\n",
              "      <td>0</td>\n",
              "      <td>0.0</td>\n",
              "      <td>2.0</td>\n",
              "      <td>2.0</td>\n",
              "      <td>2.0</td>\n",
              "      <td>0.0</td>\n",
              "      <td>0.0</td>\n",
              "      <td>2.0</td>\n",
              "      <td>1.0</td>\n",
              "      <td>2.0</td>\n",
              "      <td>2.0</td>\n",
              "      <td>2.0</td>\n",
              "      <td>2.0</td>\n",
              "      <td>2.0</td>\n",
              "      <td>286580.0</td>\n",
              "      <td>749680.0</td>\n",
              "      <td>46.230769</td>\n",
              "      <td>86.692308</td>\n",
              "      <td>131.000000</td>\n",
              "    </tr>\n",
              "    <tr>\n",
              "      <th>Aberlour</th>\n",
              "      <td>1</td>\n",
              "      <td>1.0</td>\n",
              "      <td>3.0</td>\n",
              "      <td>3.0</td>\n",
              "      <td>1.0</td>\n",
              "      <td>0.0</td>\n",
              "      <td>0.0</td>\n",
              "      <td>4.0</td>\n",
              "      <td>3.0</td>\n",
              "      <td>2.0</td>\n",
              "      <td>2.0</td>\n",
              "      <td>3.0</td>\n",
              "      <td>3.0</td>\n",
              "      <td>2.0</td>\n",
              "      <td>326340.0</td>\n",
              "      <td>842570.0</td>\n",
              "      <td>49.333333</td>\n",
              "      <td>87.666667</td>\n",
              "      <td>80.600000</td>\n",
              "    </tr>\n",
              "    <tr>\n",
              "      <th>AnCnoc</th>\n",
              "      <td>2</td>\n",
              "      <td>2.0</td>\n",
              "      <td>1.0</td>\n",
              "      <td>3.0</td>\n",
              "      <td>2.0</td>\n",
              "      <td>0.0</td>\n",
              "      <td>0.0</td>\n",
              "      <td>2.0</td>\n",
              "      <td>0.0</td>\n",
              "      <td>0.0</td>\n",
              "      <td>2.0</td>\n",
              "      <td>2.0</td>\n",
              "      <td>3.0</td>\n",
              "      <td>2.0</td>\n",
              "      <td>352960.0</td>\n",
              "      <td>839320.0</td>\n",
              "      <td>45.000000</td>\n",
              "      <td>89.000000</td>\n",
              "      <td>178.800000</td>\n",
              "    </tr>\n",
              "    <tr>\n",
              "      <th>Ardbeg</th>\n",
              "      <td>3</td>\n",
              "      <td>3.0</td>\n",
              "      <td>4.0</td>\n",
              "      <td>1.0</td>\n",
              "      <td>4.0</td>\n",
              "      <td>4.0</td>\n",
              "      <td>0.0</td>\n",
              "      <td>0.0</td>\n",
              "      <td>2.0</td>\n",
              "      <td>0.0</td>\n",
              "      <td>1.0</td>\n",
              "      <td>2.0</td>\n",
              "      <td>1.0</td>\n",
              "      <td>0.0</td>\n",
              "      <td>141560.0</td>\n",
              "      <td>646220.0</td>\n",
              "      <td>50.344828</td>\n",
              "      <td>89.833333</td>\n",
              "      <td>1464.200000</td>\n",
              "    </tr>\n",
              "    <tr>\n",
              "      <th>Ardmore</th>\n",
              "      <td>4</td>\n",
              "      <td>4.0</td>\n",
              "      <td>2.0</td>\n",
              "      <td>2.0</td>\n",
              "      <td>2.0</td>\n",
              "      <td>0.0</td>\n",
              "      <td>0.0</td>\n",
              "      <td>1.0</td>\n",
              "      <td>1.0</td>\n",
              "      <td>1.0</td>\n",
              "      <td>2.0</td>\n",
              "      <td>3.0</td>\n",
              "      <td>1.0</td>\n",
              "      <td>1.0</td>\n",
              "      <td>355350.0</td>\n",
              "      <td>829140.0</td>\n",
              "      <td>50.000000</td>\n",
              "      <td>86.571429</td>\n",
              "      <td>156.428571</td>\n",
              "    </tr>\n",
              "    <tr>\n",
              "      <th>...</th>\n",
              "      <td>...</td>\n",
              "      <td>...</td>\n",
              "      <td>...</td>\n",
              "      <td>...</td>\n",
              "      <td>...</td>\n",
              "      <td>...</td>\n",
              "      <td>...</td>\n",
              "      <td>...</td>\n",
              "      <td>...</td>\n",
              "      <td>...</td>\n",
              "      <td>...</td>\n",
              "      <td>...</td>\n",
              "      <td>...</td>\n",
              "      <td>...</td>\n",
              "      <td>...</td>\n",
              "      <td>...</td>\n",
              "      <td>...</td>\n",
              "      <td>...</td>\n",
              "      <td>...</td>\n",
              "    </tr>\n",
              "    <tr>\n",
              "      <th>Tobermory</th>\n",
              "      <td>81</td>\n",
              "      <td>81.0</td>\n",
              "      <td>1.0</td>\n",
              "      <td>1.0</td>\n",
              "      <td>1.0</td>\n",
              "      <td>0.0</td>\n",
              "      <td>0.0</td>\n",
              "      <td>1.0</td>\n",
              "      <td>0.0</td>\n",
              "      <td>0.0</td>\n",
              "      <td>1.0</td>\n",
              "      <td>2.0</td>\n",
              "      <td>2.0</td>\n",
              "      <td>2.0</td>\n",
              "      <td>150450.0</td>\n",
              "      <td>755070.0</td>\n",
              "      <td>49.625000</td>\n",
              "      <td>85.625000</td>\n",
              "      <td>102.250000</td>\n",
              "    </tr>\n",
              "    <tr>\n",
              "      <th>Tomatin</th>\n",
              "      <td>82</td>\n",
              "      <td>82.0</td>\n",
              "      <td>2.0</td>\n",
              "      <td>3.0</td>\n",
              "      <td>2.0</td>\n",
              "      <td>0.0</td>\n",
              "      <td>0.0</td>\n",
              "      <td>2.0</td>\n",
              "      <td>2.0</td>\n",
              "      <td>1.0</td>\n",
              "      <td>1.0</td>\n",
              "      <td>2.0</td>\n",
              "      <td>0.0</td>\n",
              "      <td>1.0</td>\n",
              "      <td>279120.0</td>\n",
              "      <td>829630.0</td>\n",
              "      <td>47.363636</td>\n",
              "      <td>85.454545</td>\n",
              "      <td>320.909091</td>\n",
              "    </tr>\n",
              "    <tr>\n",
              "      <th>Tomintoul</th>\n",
              "      <td>83</td>\n",
              "      <td>83.0</td>\n",
              "      <td>0.0</td>\n",
              "      <td>3.0</td>\n",
              "      <td>1.0</td>\n",
              "      <td>0.0</td>\n",
              "      <td>0.0</td>\n",
              "      <td>2.0</td>\n",
              "      <td>2.0</td>\n",
              "      <td>1.0</td>\n",
              "      <td>1.0</td>\n",
              "      <td>2.0</td>\n",
              "      <td>1.0</td>\n",
              "      <td>2.0</td>\n",
              "      <td>315100.0</td>\n",
              "      <td>825560.0</td>\n",
              "      <td>43.692308</td>\n",
              "      <td>87.615385</td>\n",
              "      <td>222.923077</td>\n",
              "    </tr>\n",
              "    <tr>\n",
              "      <th>Tormore</th>\n",
              "      <td>84</td>\n",
              "      <td>84.0</td>\n",
              "      <td>2.0</td>\n",
              "      <td>2.0</td>\n",
              "      <td>1.0</td>\n",
              "      <td>0.0</td>\n",
              "      <td>0.0</td>\n",
              "      <td>1.0</td>\n",
              "      <td>0.0</td>\n",
              "      <td>1.0</td>\n",
              "      <td>2.0</td>\n",
              "      <td>1.0</td>\n",
              "      <td>0.0</td>\n",
              "      <td>0.0</td>\n",
              "      <td>315180.0</td>\n",
              "      <td>834960.0</td>\n",
              "      <td>49.625000</td>\n",
              "      <td>84.125000</td>\n",
              "      <td>117.125000</td>\n",
              "    </tr>\n",
              "    <tr>\n",
              "      <th>Tullibardine</th>\n",
              "      <td>85</td>\n",
              "      <td>85.0</td>\n",
              "      <td>2.0</td>\n",
              "      <td>3.0</td>\n",
              "      <td>0.0</td>\n",
              "      <td>0.0</td>\n",
              "      <td>1.0</td>\n",
              "      <td>0.0</td>\n",
              "      <td>2.0</td>\n",
              "      <td>1.0</td>\n",
              "      <td>1.0</td>\n",
              "      <td>2.0</td>\n",
              "      <td>2.0</td>\n",
              "      <td>1.0</td>\n",
              "      <td>289690.0</td>\n",
              "      <td>708850.0</td>\n",
              "      <td>45.000000</td>\n",
              "      <td>84.470588</td>\n",
              "      <td>1571.176471</td>\n",
              "    </tr>\n",
              "  </tbody>\n",
              "</table>\n",
              "<p>86 rows × 19 columns</p>\n",
              "</div>"
            ],
            "text/plain": [
              "              Unnamed: 0  DistCode  Body  ...       %alc  review_point        price\n",
              "Distillery                                ...                                      \n",
              "Aberfeldy              0       0.0   2.0  ...  46.230769     86.692308   131.000000\n",
              "Aberlour               1       1.0   3.0  ...  49.333333     87.666667    80.600000\n",
              "AnCnoc                 2       2.0   1.0  ...  45.000000     89.000000   178.800000\n",
              "Ardbeg                 3       3.0   4.0  ...  50.344828     89.833333  1464.200000\n",
              "Ardmore                4       4.0   2.0  ...  50.000000     86.571429   156.428571\n",
              "...                  ...       ...   ...  ...        ...           ...          ...\n",
              "Tobermory             81      81.0   1.0  ...  49.625000     85.625000   102.250000\n",
              "Tomatin               82      82.0   2.0  ...  47.363636     85.454545   320.909091\n",
              "Tomintoul             83      83.0   0.0  ...  43.692308     87.615385   222.923077\n",
              "Tormore               84      84.0   2.0  ...  49.625000     84.125000   117.125000\n",
              "Tullibardine          85      85.0   2.0  ...  45.000000     84.470588  1571.176471\n",
              "\n",
              "[86 rows x 19 columns]"
            ]
          },
          "metadata": {},
          "execution_count": 7
        }
      ]
    },
    {
      "cell_type": "code",
      "metadata": {
        "colab": {
          "base_uri": "https://localhost:8080/",
          "height": 206
        },
        "id": "cvIsFqriC0_u",
        "outputId": "72b2f830-11e5-4d86-ef2b-78381cf541da"
      },
      "source": [
        "#looking at head of data \n",
        "whiskey_quant.head()"
      ],
      "execution_count": null,
      "outputs": [
        {
          "output_type": "execute_result",
          "data": {
            "text/html": [
              "<div>\n",
              "<style scoped>\n",
              "    .dataframe tbody tr th:only-of-type {\n",
              "        vertical-align: middle;\n",
              "    }\n",
              "\n",
              "    .dataframe tbody tr th {\n",
              "        vertical-align: top;\n",
              "    }\n",
              "\n",
              "    .dataframe thead th {\n",
              "        text-align: right;\n",
              "    }\n",
              "</style>\n",
              "<table border=\"1\" class=\"dataframe\">\n",
              "  <thead>\n",
              "    <tr style=\"text-align: right;\">\n",
              "      <th></th>\n",
              "      <th>Unnamed: 0</th>\n",
              "      <th>Distillery</th>\n",
              "      <th>DistCode</th>\n",
              "      <th>Body</th>\n",
              "      <th>Sweetness</th>\n",
              "      <th>Smoky</th>\n",
              "      <th>Medicinal</th>\n",
              "      <th>Tobacco</th>\n",
              "      <th>Honey</th>\n",
              "      <th>Spicy</th>\n",
              "      <th>Winey</th>\n",
              "      <th>Nutty</th>\n",
              "      <th>Malty</th>\n",
              "      <th>Fruity</th>\n",
              "      <th>Floral</th>\n",
              "      <th>Latitude</th>\n",
              "      <th>Longitude</th>\n",
              "      <th>%alc</th>\n",
              "      <th>review_point</th>\n",
              "      <th>price</th>\n",
              "    </tr>\n",
              "  </thead>\n",
              "  <tbody>\n",
              "    <tr>\n",
              "      <th>0</th>\n",
              "      <td>0</td>\n",
              "      <td>Aberfeldy</td>\n",
              "      <td>0.0</td>\n",
              "      <td>2.0</td>\n",
              "      <td>2.0</td>\n",
              "      <td>2.0</td>\n",
              "      <td>0.0</td>\n",
              "      <td>0.0</td>\n",
              "      <td>2.0</td>\n",
              "      <td>1.0</td>\n",
              "      <td>2.0</td>\n",
              "      <td>2.0</td>\n",
              "      <td>2.0</td>\n",
              "      <td>2.0</td>\n",
              "      <td>2.0</td>\n",
              "      <td>286580.0</td>\n",
              "      <td>749680.0</td>\n",
              "      <td>46.230769</td>\n",
              "      <td>86.692308</td>\n",
              "      <td>131.000000</td>\n",
              "    </tr>\n",
              "    <tr>\n",
              "      <th>1</th>\n",
              "      <td>1</td>\n",
              "      <td>Aberlour</td>\n",
              "      <td>1.0</td>\n",
              "      <td>3.0</td>\n",
              "      <td>3.0</td>\n",
              "      <td>1.0</td>\n",
              "      <td>0.0</td>\n",
              "      <td>0.0</td>\n",
              "      <td>4.0</td>\n",
              "      <td>3.0</td>\n",
              "      <td>2.0</td>\n",
              "      <td>2.0</td>\n",
              "      <td>3.0</td>\n",
              "      <td>3.0</td>\n",
              "      <td>2.0</td>\n",
              "      <td>326340.0</td>\n",
              "      <td>842570.0</td>\n",
              "      <td>49.333333</td>\n",
              "      <td>87.666667</td>\n",
              "      <td>80.600000</td>\n",
              "    </tr>\n",
              "    <tr>\n",
              "      <th>2</th>\n",
              "      <td>2</td>\n",
              "      <td>AnCnoc</td>\n",
              "      <td>2.0</td>\n",
              "      <td>1.0</td>\n",
              "      <td>3.0</td>\n",
              "      <td>2.0</td>\n",
              "      <td>0.0</td>\n",
              "      <td>0.0</td>\n",
              "      <td>2.0</td>\n",
              "      <td>0.0</td>\n",
              "      <td>0.0</td>\n",
              "      <td>2.0</td>\n",
              "      <td>2.0</td>\n",
              "      <td>3.0</td>\n",
              "      <td>2.0</td>\n",
              "      <td>352960.0</td>\n",
              "      <td>839320.0</td>\n",
              "      <td>45.000000</td>\n",
              "      <td>89.000000</td>\n",
              "      <td>178.800000</td>\n",
              "    </tr>\n",
              "    <tr>\n",
              "      <th>3</th>\n",
              "      <td>3</td>\n",
              "      <td>Ardbeg</td>\n",
              "      <td>3.0</td>\n",
              "      <td>4.0</td>\n",
              "      <td>1.0</td>\n",
              "      <td>4.0</td>\n",
              "      <td>4.0</td>\n",
              "      <td>0.0</td>\n",
              "      <td>0.0</td>\n",
              "      <td>2.0</td>\n",
              "      <td>0.0</td>\n",
              "      <td>1.0</td>\n",
              "      <td>2.0</td>\n",
              "      <td>1.0</td>\n",
              "      <td>0.0</td>\n",
              "      <td>141560.0</td>\n",
              "      <td>646220.0</td>\n",
              "      <td>50.344828</td>\n",
              "      <td>89.833333</td>\n",
              "      <td>1464.200000</td>\n",
              "    </tr>\n",
              "    <tr>\n",
              "      <th>4</th>\n",
              "      <td>4</td>\n",
              "      <td>Ardmore</td>\n",
              "      <td>4.0</td>\n",
              "      <td>2.0</td>\n",
              "      <td>2.0</td>\n",
              "      <td>2.0</td>\n",
              "      <td>0.0</td>\n",
              "      <td>0.0</td>\n",
              "      <td>1.0</td>\n",
              "      <td>1.0</td>\n",
              "      <td>1.0</td>\n",
              "      <td>2.0</td>\n",
              "      <td>3.0</td>\n",
              "      <td>1.0</td>\n",
              "      <td>1.0</td>\n",
              "      <td>355350.0</td>\n",
              "      <td>829140.0</td>\n",
              "      <td>50.000000</td>\n",
              "      <td>86.571429</td>\n",
              "      <td>156.428571</td>\n",
              "    </tr>\n",
              "  </tbody>\n",
              "</table>\n",
              "</div>"
            ],
            "text/plain": [
              "   Unnamed: 0 Distillery  DistCode  ...       %alc  review_point        price\n",
              "0           0  Aberfeldy       0.0  ...  46.230769     86.692308   131.000000\n",
              "1           1   Aberlour       1.0  ...  49.333333     87.666667    80.600000\n",
              "2           2     AnCnoc       2.0  ...  45.000000     89.000000   178.800000\n",
              "3           3     Ardbeg       3.0  ...  50.344828     89.833333  1464.200000\n",
              "4           4    Ardmore       4.0  ...  50.000000     86.571429   156.428571\n",
              "\n",
              "[5 rows x 20 columns]"
            ]
          },
          "metadata": {},
          "execution_count": 8
        }
      ]
    },
    {
      "cell_type": "code",
      "metadata": {
        "id": "-6cQ65l4_HHj"
      },
      "source": [
        "#making small dataframe for k-means clustering\n",
        "whiskey = whiskey_quant[['Distillery','Body','Sweetness','Smoky','Medicinal','Tobacco','Honey','Spicy','Winey','Nutty','Malty','Fruity','Floral','%alc']]"
      ],
      "execution_count": null,
      "outputs": []
    },
    {
      "cell_type": "code",
      "metadata": {
        "id": "8OOCBpU4AL5i"
      },
      "source": [
        "whiskey = whiskey.set_index('Distillery')\n"
      ],
      "execution_count": null,
      "outputs": []
    },
    {
      "cell_type": "code",
      "metadata": {
        "colab": {
          "base_uri": "https://localhost:8080/",
          "height": 237
        },
        "id": "lj4Rf6WXEpSA",
        "outputId": "4a2ff541-4af8-4ec1-b16c-d08d4f3d0ef1"
      },
      "source": [
        "whiskey.head()"
      ],
      "execution_count": null,
      "outputs": [
        {
          "output_type": "execute_result",
          "data": {
            "text/html": [
              "<div>\n",
              "<style scoped>\n",
              "    .dataframe tbody tr th:only-of-type {\n",
              "        vertical-align: middle;\n",
              "    }\n",
              "\n",
              "    .dataframe tbody tr th {\n",
              "        vertical-align: top;\n",
              "    }\n",
              "\n",
              "    .dataframe thead th {\n",
              "        text-align: right;\n",
              "    }\n",
              "</style>\n",
              "<table border=\"1\" class=\"dataframe\">\n",
              "  <thead>\n",
              "    <tr style=\"text-align: right;\">\n",
              "      <th></th>\n",
              "      <th>Body</th>\n",
              "      <th>Sweetness</th>\n",
              "      <th>Smoky</th>\n",
              "      <th>Medicinal</th>\n",
              "      <th>Tobacco</th>\n",
              "      <th>Honey</th>\n",
              "      <th>Spicy</th>\n",
              "      <th>Winey</th>\n",
              "      <th>Nutty</th>\n",
              "      <th>Malty</th>\n",
              "      <th>Fruity</th>\n",
              "      <th>Floral</th>\n",
              "      <th>%alc</th>\n",
              "    </tr>\n",
              "    <tr>\n",
              "      <th>Distillery</th>\n",
              "      <th></th>\n",
              "      <th></th>\n",
              "      <th></th>\n",
              "      <th></th>\n",
              "      <th></th>\n",
              "      <th></th>\n",
              "      <th></th>\n",
              "      <th></th>\n",
              "      <th></th>\n",
              "      <th></th>\n",
              "      <th></th>\n",
              "      <th></th>\n",
              "      <th></th>\n",
              "    </tr>\n",
              "  </thead>\n",
              "  <tbody>\n",
              "    <tr>\n",
              "      <th>Aberfeldy</th>\n",
              "      <td>2.0</td>\n",
              "      <td>2.0</td>\n",
              "      <td>2.0</td>\n",
              "      <td>0.0</td>\n",
              "      <td>0.0</td>\n",
              "      <td>2.0</td>\n",
              "      <td>1.0</td>\n",
              "      <td>2.0</td>\n",
              "      <td>2.0</td>\n",
              "      <td>2.0</td>\n",
              "      <td>2.0</td>\n",
              "      <td>2.0</td>\n",
              "      <td>46.230769</td>\n",
              "    </tr>\n",
              "    <tr>\n",
              "      <th>Aberlour</th>\n",
              "      <td>3.0</td>\n",
              "      <td>3.0</td>\n",
              "      <td>1.0</td>\n",
              "      <td>0.0</td>\n",
              "      <td>0.0</td>\n",
              "      <td>4.0</td>\n",
              "      <td>3.0</td>\n",
              "      <td>2.0</td>\n",
              "      <td>2.0</td>\n",
              "      <td>3.0</td>\n",
              "      <td>3.0</td>\n",
              "      <td>2.0</td>\n",
              "      <td>49.333333</td>\n",
              "    </tr>\n",
              "    <tr>\n",
              "      <th>AnCnoc</th>\n",
              "      <td>1.0</td>\n",
              "      <td>3.0</td>\n",
              "      <td>2.0</td>\n",
              "      <td>0.0</td>\n",
              "      <td>0.0</td>\n",
              "      <td>2.0</td>\n",
              "      <td>0.0</td>\n",
              "      <td>0.0</td>\n",
              "      <td>2.0</td>\n",
              "      <td>2.0</td>\n",
              "      <td>3.0</td>\n",
              "      <td>2.0</td>\n",
              "      <td>45.000000</td>\n",
              "    </tr>\n",
              "    <tr>\n",
              "      <th>Ardbeg</th>\n",
              "      <td>4.0</td>\n",
              "      <td>1.0</td>\n",
              "      <td>4.0</td>\n",
              "      <td>4.0</td>\n",
              "      <td>0.0</td>\n",
              "      <td>0.0</td>\n",
              "      <td>2.0</td>\n",
              "      <td>0.0</td>\n",
              "      <td>1.0</td>\n",
              "      <td>2.0</td>\n",
              "      <td>1.0</td>\n",
              "      <td>0.0</td>\n",
              "      <td>50.344828</td>\n",
              "    </tr>\n",
              "    <tr>\n",
              "      <th>Ardmore</th>\n",
              "      <td>2.0</td>\n",
              "      <td>2.0</td>\n",
              "      <td>2.0</td>\n",
              "      <td>0.0</td>\n",
              "      <td>0.0</td>\n",
              "      <td>1.0</td>\n",
              "      <td>1.0</td>\n",
              "      <td>1.0</td>\n",
              "      <td>2.0</td>\n",
              "      <td>3.0</td>\n",
              "      <td>1.0</td>\n",
              "      <td>1.0</td>\n",
              "      <td>50.000000</td>\n",
              "    </tr>\n",
              "  </tbody>\n",
              "</table>\n",
              "</div>"
            ],
            "text/plain": [
              "            Body  Sweetness  Smoky  Medicinal  ...  Malty  Fruity  Floral       %alc\n",
              "Distillery                                     ...                                  \n",
              "Aberfeldy    2.0        2.0    2.0        0.0  ...    2.0     2.0     2.0  46.230769\n",
              "Aberlour     3.0        3.0    1.0        0.0  ...    3.0     3.0     2.0  49.333333\n",
              "AnCnoc       1.0        3.0    2.0        0.0  ...    2.0     3.0     2.0  45.000000\n",
              "Ardbeg       4.0        1.0    4.0        4.0  ...    2.0     1.0     0.0  50.344828\n",
              "Ardmore      2.0        2.0    2.0        0.0  ...    3.0     1.0     1.0  50.000000\n",
              "\n",
              "[5 rows x 13 columns]"
            ]
          },
          "metadata": {},
          "execution_count": 11
        }
      ]
    },
    {
      "cell_type": "code",
      "metadata": {
        "id": "EPHsBFh9CCca"
      },
      "source": [
        "#importing elbow visualizer to get best number of clusters\n",
        "from yellowbrick.cluster import KElbowVisualizer\n",
        "model = KMeans()"
      ],
      "execution_count": null,
      "outputs": []
    },
    {
      "cell_type": "code",
      "metadata": {
        "colab": {
          "base_uri": "https://localhost:8080/",
          "height": 393
        },
        "id": "rNC4Wl8NCUPQ",
        "outputId": "c78f4927-3f12-4409-d46b-a29799f92962"
      },
      "source": [
        "#creating graph to find best number of clusters which is 4\n",
        "visualizer = KElbowVisualizer(model, k=(1,12)).fit(whiskey)\n",
        "visualizer.show()"
      ],
      "execution_count": null,
      "outputs": [
        {
          "output_type": "display_data",
          "data": {
            "image/png": "[encoded data removed]",
            "text/plain": [
              "<Figure size 576x396 with 2 Axes>"
            ]
          },
          "metadata": {}
        },
        {
          "output_type": "execute_result",
          "data": {
            "text/plain": [
              "<matplotlib.axes._subplots.AxesSubplot at 0x7f21d6c1b2d0>"
            ]
          },
          "metadata": {},
          "execution_count": 13
        }
      ]
    },
    {
      "cell_type": "code",
      "metadata": {
        "id": "gDUllzk47DMa"
      },
      "source": [
        "#creating kmeans clusters\n",
        "kmeans = KMeans(n_clusters = 4,init = 'k-means++',random_state = 0).fit(whiskey)\n"
      ],
      "execution_count": null,
      "outputs": []
    },
    {
      "cell_type": "code",
      "metadata": {
        "colab": {
          "base_uri": "https://localhost:8080/"
        },
        "id": "GBPxmnPsHYE8",
        "outputId": "786e7414-e9b7-494e-9ecb-4a2ead1b9f71"
      },
      "source": [
        "#printing out the predicted clusters for each distillery\n",
        "y_predicted = kmeans.fit_predict(whiskey)\n",
        "y_predicted"
      ],
      "execution_count": null,
      "outputs": [
        {
          "output_type": "execute_result",
          "data": {
            "text/plain": [
              "array([0, 2, 3, 1, 2, 2, 0, 2, 2, 3, 2, 0, 2, 0, 2, 0, 2, 2, 2, 2, 0, 1,\n",
              "       0, 1, 2, 0, 2, 3, 0, 0, 3, 2, 3, 2, 0, 2, 2, 0, 3, 0, 0, 2, 0, 3,\n",
              "       2, 3, 0, 2, 0, 0, 0, 3, 0, 2, 0, 3, 3, 1, 1, 2, 0, 0, 0, 2, 2, 2,\n",
              "       0, 3, 0, 3, 3, 3, 3, 0, 2, 0, 2, 1, 0, 3, 2, 2, 0, 3, 2, 3],\n",
              "      dtype=int32)"
            ]
          },
          "metadata": {},
          "execution_count": 15
        }
      ]
    },
    {
      "cell_type": "code",
      "metadata": {
        "colab": {
          "base_uri": "https://localhost:8080/",
          "height": 237
        },
        "id": "-JylqNhNHgLI",
        "outputId": "8f9ae819-8143-4c2a-80ea-0bc99f85014b"
      },
      "source": [
        "#adding in clusters to the dataset\n",
        "whiskey['cluster'] = y_predicted\n",
        "whiskey.head()"
      ],
      "execution_count": null,
      "outputs": [
        {
          "output_type": "execute_result",
          "data": {
            "text/html": [
              "<div>\n",
              "<style scoped>\n",
              "    .dataframe tbody tr th:only-of-type {\n",
              "        vertical-align: middle;\n",
              "    }\n",
              "\n",
              "    .dataframe tbody tr th {\n",
              "        vertical-align: top;\n",
              "    }\n",
              "\n",
              "    .dataframe thead th {\n",
              "        text-align: right;\n",
              "    }\n",
              "</style>\n",
              "<table border=\"1\" class=\"dataframe\">\n",
              "  <thead>\n",
              "    <tr style=\"text-align: right;\">\n",
              "      <th></th>\n",
              "      <th>Body</th>\n",
              "      <th>Sweetness</th>\n",
              "      <th>Smoky</th>\n",
              "      <th>Medicinal</th>\n",
              "      <th>Tobacco</th>\n",
              "      <th>Honey</th>\n",
              "      <th>Spicy</th>\n",
              "      <th>Winey</th>\n",
              "      <th>Nutty</th>\n",
              "      <th>Malty</th>\n",
              "      <th>Fruity</th>\n",
              "      <th>Floral</th>\n",
              "      <th>%alc</th>\n",
              "      <th>cluster</th>\n",
              "    </tr>\n",
              "    <tr>\n",
              "      <th>Distillery</th>\n",
              "      <th></th>\n",
              "      <th></th>\n",
              "      <th></th>\n",
              "      <th></th>\n",
              "      <th></th>\n",
              "      <th></th>\n",
              "      <th></th>\n",
              "      <th></th>\n",
              "      <th></th>\n",
              "      <th></th>\n",
              "      <th></th>\n",
              "      <th></th>\n",
              "      <th></th>\n",
              "      <th></th>\n",
              "    </tr>\n",
              "  </thead>\n",
              "  <tbody>\n",
              "    <tr>\n",
              "      <th>Aberfeldy</th>\n",
              "      <td>2.0</td>\n",
              "      <td>2.0</td>\n",
              "      <td>2.0</td>\n",
              "      <td>0.0</td>\n",
              "      <td>0.0</td>\n",
              "      <td>2.0</td>\n",
              "      <td>1.0</td>\n",
              "      <td>2.0</td>\n",
              "      <td>2.0</td>\n",
              "      <td>2.0</td>\n",
              "      <td>2.0</td>\n",
              "      <td>2.0</td>\n",
              "      <td>46.230769</td>\n",
              "      <td>0</td>\n",
              "    </tr>\n",
              "    <tr>\n",
              "      <th>Aberlour</th>\n",
              "      <td>3.0</td>\n",
              "      <td>3.0</td>\n",
              "      <td>1.0</td>\n",
              "      <td>0.0</td>\n",
              "      <td>0.0</td>\n",
              "      <td>4.0</td>\n",
              "      <td>3.0</td>\n",
              "      <td>2.0</td>\n",
              "      <td>2.0</td>\n",
              "      <td>3.0</td>\n",
              "      <td>3.0</td>\n",
              "      <td>2.0</td>\n",
              "      <td>49.333333</td>\n",
              "      <td>2</td>\n",
              "    </tr>\n",
              "    <tr>\n",
              "      <th>AnCnoc</th>\n",
              "      <td>1.0</td>\n",
              "      <td>3.0</td>\n",
              "      <td>2.0</td>\n",
              "      <td>0.0</td>\n",
              "      <td>0.0</td>\n",
              "      <td>2.0</td>\n",
              "      <td>0.0</td>\n",
              "      <td>0.0</td>\n",
              "      <td>2.0</td>\n",
              "      <td>2.0</td>\n",
              "      <td>3.0</td>\n",
              "      <td>2.0</td>\n",
              "      <td>45.000000</td>\n",
              "      <td>3</td>\n",
              "    </tr>\n",
              "    <tr>\n",
              "      <th>Ardbeg</th>\n",
              "      <td>4.0</td>\n",
              "      <td>1.0</td>\n",
              "      <td>4.0</td>\n",
              "      <td>4.0</td>\n",
              "      <td>0.0</td>\n",
              "      <td>0.0</td>\n",
              "      <td>2.0</td>\n",
              "      <td>0.0</td>\n",
              "      <td>1.0</td>\n",
              "      <td>2.0</td>\n",
              "      <td>1.0</td>\n",
              "      <td>0.0</td>\n",
              "      <td>50.344828</td>\n",
              "      <td>1</td>\n",
              "    </tr>\n",
              "    <tr>\n",
              "      <th>Ardmore</th>\n",
              "      <td>2.0</td>\n",
              "      <td>2.0</td>\n",
              "      <td>2.0</td>\n",
              "      <td>0.0</td>\n",
              "      <td>0.0</td>\n",
              "      <td>1.0</td>\n",
              "      <td>1.0</td>\n",
              "      <td>1.0</td>\n",
              "      <td>2.0</td>\n",
              "      <td>3.0</td>\n",
              "      <td>1.0</td>\n",
              "      <td>1.0</td>\n",
              "      <td>50.000000</td>\n",
              "      <td>2</td>\n",
              "    </tr>\n",
              "  </tbody>\n",
              "</table>\n",
              "</div>"
            ],
            "text/plain": [
              "            Body  Sweetness  Smoky  ...  Floral       %alc  cluster\n",
              "Distillery                          ...                            \n",
              "Aberfeldy    2.0        2.0    2.0  ...     2.0  46.230769        0\n",
              "Aberlour     3.0        3.0    1.0  ...     2.0  49.333333        2\n",
              "AnCnoc       1.0        3.0    2.0  ...     2.0  45.000000        3\n",
              "Ardbeg       4.0        1.0    4.0  ...     0.0  50.344828        1\n",
              "Ardmore      2.0        2.0    2.0  ...     1.0  50.000000        2\n",
              "\n",
              "[5 rows x 14 columns]"
            ]
          },
          "metadata": {},
          "execution_count": 16
        }
      ]
    },
    {
      "cell_type": "code",
      "source": [
        "cluster_1 = whiskey[whiskey['cluster'] == 1]"
      ],
      "metadata": {
        "id": "EaaigwPEUffL"
      },
      "execution_count": null,
      "outputs": []
    },
    {
      "cell_type": "code",
      "source": [
        "print(cluster_1)"
      ],
      "metadata": {
        "id": "tduvOdIYWDYK",
        "colab": {
          "base_uri": "https://localhost:8080/"
        },
        "outputId": "08fa08d5-70c3-4e72-cf11-a829ea3f367e"
      },
      "execution_count": 23,
      "outputs": [
        {
          "output_type": "stream",
          "name": "stdout",
          "text": [
            "            Body  Sweetness  Smoky  ...  Floral       %alc  cluster\n",
            "Distillery                          ...                            \n",
            "Ardbeg       4.0        1.0    4.0  ...     0.0  50.344828        1\n",
            "Caol Ila     3.0        1.0    4.0  ...     1.0  50.820000        1\n",
            "Clynelish    3.0        2.0    3.0  ...     0.0  48.730769        1\n",
            "Lagavulin    4.0        1.0    4.0  ...     0.0  52.285714        1\n",
            "Laphroaig    4.0        2.0    4.0  ...     0.0  49.000000        1\n",
            "Talisker     4.0        2.0    3.0  ...     0.0  48.230769        1\n",
            "\n",
            "[6 rows x 14 columns]\n"
          ]
        }
      ]
    },
    {
      "cell_type": "code",
      "source": [
        ""
      ],
      "metadata": {
        "id": "Y6-nyzVfbD8W"
      },
      "execution_count": null,
      "outputs": []
    },
    {
      "cell_type": "code",
      "source": [
        "cluster_1.describe()"
      ],
      "metadata": {
        "colab": {
          "base_uri": "https://localhost:8080/",
          "height": 300
        },
        "id": "YcleuzH6W0vB",
        "outputId": "266c941c-563a-4a7d-c106-31ef465912c4"
      },
      "execution_count": null,
      "outputs": [
        {
          "output_type": "execute_result",
          "data": {
            "text/html": [
              "<div>\n",
              "<style scoped>\n",
              "    .dataframe tbody tr th:only-of-type {\n",
              "        vertical-align: middle;\n",
              "    }\n",
              "\n",
              "    .dataframe tbody tr th {\n",
              "        vertical-align: top;\n",
              "    }\n",
              "\n",
              "    .dataframe thead th {\n",
              "        text-align: right;\n",
              "    }\n",
              "</style>\n",
              "<table border=\"1\" class=\"dataframe\">\n",
              "  <thead>\n",
              "    <tr style=\"text-align: right;\">\n",
              "      <th></th>\n",
              "      <th>Body</th>\n",
              "      <th>Sweetness</th>\n",
              "      <th>Smoky</th>\n",
              "      <th>Medicinal</th>\n",
              "      <th>Tobacco</th>\n",
              "      <th>Honey</th>\n",
              "      <th>Spicy</th>\n",
              "      <th>Winey</th>\n",
              "      <th>Nutty</th>\n",
              "      <th>Malty</th>\n",
              "      <th>Fruity</th>\n",
              "      <th>Floral</th>\n",
              "      <th>%alc</th>\n",
              "      <th>cluster</th>\n",
              "    </tr>\n",
              "  </thead>\n",
              "  <tbody>\n",
              "    <tr>\n",
              "      <th>count</th>\n",
              "      <td>6.000000</td>\n",
              "      <td>6.000000</td>\n",
              "      <td>6.000000</td>\n",
              "      <td>6.000000</td>\n",
              "      <td>6.000000</td>\n",
              "      <td>6.000000</td>\n",
              "      <td>6.000000</td>\n",
              "      <td>6.00000</td>\n",
              "      <td>6.000000</td>\n",
              "      <td>6.000000</td>\n",
              "      <td>6.000000</td>\n",
              "      <td>6.000000</td>\n",
              "      <td>6.000000</td>\n",
              "      <td>6.0</td>\n",
              "    </tr>\n",
              "    <tr>\n",
              "      <th>mean</th>\n",
              "      <td>3.666667</td>\n",
              "      <td>1.500000</td>\n",
              "      <td>3.666667</td>\n",
              "      <td>3.333333</td>\n",
              "      <td>0.666667</td>\n",
              "      <td>0.166667</td>\n",
              "      <td>1.666667</td>\n",
              "      <td>0.50000</td>\n",
              "      <td>1.166667</td>\n",
              "      <td>1.333333</td>\n",
              "      <td>1.166667</td>\n",
              "      <td>0.166667</td>\n",
              "      <td>49.902013</td>\n",
              "      <td>1.0</td>\n",
              "    </tr>\n",
              "    <tr>\n",
              "      <th>std</th>\n",
              "      <td>0.516398</td>\n",
              "      <td>0.547723</td>\n",
              "      <td>0.516398</td>\n",
              "      <td>0.816497</td>\n",
              "      <td>0.516398</td>\n",
              "      <td>0.408248</td>\n",
              "      <td>1.032796</td>\n",
              "      <td>0.83666</td>\n",
              "      <td>0.408248</td>\n",
              "      <td>0.516398</td>\n",
              "      <td>0.752773</td>\n",
              "      <td>0.408248</td>\n",
              "      <td>1.529661</td>\n",
              "      <td>0.0</td>\n",
              "    </tr>\n",
              "    <tr>\n",
              "      <th>min</th>\n",
              "      <td>3.000000</td>\n",
              "      <td>1.000000</td>\n",
              "      <td>3.000000</td>\n",
              "      <td>2.000000</td>\n",
              "      <td>0.000000</td>\n",
              "      <td>0.000000</td>\n",
              "      <td>0.000000</td>\n",
              "      <td>0.00000</td>\n",
              "      <td>1.000000</td>\n",
              "      <td>1.000000</td>\n",
              "      <td>0.000000</td>\n",
              "      <td>0.000000</td>\n",
              "      <td>48.230769</td>\n",
              "      <td>1.0</td>\n",
              "    </tr>\n",
              "    <tr>\n",
              "      <th>25%</th>\n",
              "      <td>3.250000</td>\n",
              "      <td>1.000000</td>\n",
              "      <td>3.250000</td>\n",
              "      <td>3.000000</td>\n",
              "      <td>0.250000</td>\n",
              "      <td>0.000000</td>\n",
              "      <td>1.250000</td>\n",
              "      <td>0.00000</td>\n",
              "      <td>1.000000</td>\n",
              "      <td>1.000000</td>\n",
              "      <td>1.000000</td>\n",
              "      <td>0.000000</td>\n",
              "      <td>48.798077</td>\n",
              "      <td>1.0</td>\n",
              "    </tr>\n",
              "    <tr>\n",
              "      <th>50%</th>\n",
              "      <td>4.000000</td>\n",
              "      <td>1.500000</td>\n",
              "      <td>4.000000</td>\n",
              "      <td>3.500000</td>\n",
              "      <td>1.000000</td>\n",
              "      <td>0.000000</td>\n",
              "      <td>2.000000</td>\n",
              "      <td>0.00000</td>\n",
              "      <td>1.000000</td>\n",
              "      <td>1.000000</td>\n",
              "      <td>1.000000</td>\n",
              "      <td>0.000000</td>\n",
              "      <td>49.672414</td>\n",
              "      <td>1.0</td>\n",
              "    </tr>\n",
              "    <tr>\n",
              "      <th>75%</th>\n",
              "      <td>4.000000</td>\n",
              "      <td>2.000000</td>\n",
              "      <td>4.000000</td>\n",
              "      <td>4.000000</td>\n",
              "      <td>1.000000</td>\n",
              "      <td>0.000000</td>\n",
              "      <td>2.000000</td>\n",
              "      <td>0.75000</td>\n",
              "      <td>1.000000</td>\n",
              "      <td>1.750000</td>\n",
              "      <td>1.750000</td>\n",
              "      <td>0.000000</td>\n",
              "      <td>50.701207</td>\n",
              "      <td>1.0</td>\n",
              "    </tr>\n",
              "    <tr>\n",
              "      <th>max</th>\n",
              "      <td>4.000000</td>\n",
              "      <td>2.000000</td>\n",
              "      <td>4.000000</td>\n",
              "      <td>4.000000</td>\n",
              "      <td>1.000000</td>\n",
              "      <td>1.000000</td>\n",
              "      <td>3.000000</td>\n",
              "      <td>2.00000</td>\n",
              "      <td>2.000000</td>\n",
              "      <td>2.000000</td>\n",
              "      <td>2.000000</td>\n",
              "      <td>1.000000</td>\n",
              "      <td>52.285714</td>\n",
              "      <td>1.0</td>\n",
              "    </tr>\n",
              "  </tbody>\n",
              "</table>\n",
              "</div>"
            ],
            "text/plain": [
              "           Body  Sweetness     Smoky  ...    Floral       %alc  cluster\n",
              "count  6.000000   6.000000  6.000000  ...  6.000000   6.000000      6.0\n",
              "mean   3.666667   1.500000  3.666667  ...  0.166667  49.902013      1.0\n",
              "std    0.516398   0.547723  0.516398  ...  0.408248   1.529661      0.0\n",
              "min    3.000000   1.000000  3.000000  ...  0.000000  48.230769      1.0\n",
              "25%    3.250000   1.000000  3.250000  ...  0.000000  48.798077      1.0\n",
              "50%    4.000000   1.500000  4.000000  ...  0.000000  49.672414      1.0\n",
              "75%    4.000000   2.000000  4.000000  ...  0.000000  50.701207      1.0\n",
              "max    4.000000   2.000000  4.000000  ...  1.000000  52.285714      1.0\n",
              "\n",
              "[8 rows x 14 columns]"
            ]
          },
          "metadata": {},
          "execution_count": 18
        }
      ]
    },
    {
      "cell_type": "code",
      "source": [
        "print(cluster_0)"
      ],
      "metadata": {
        "colab": {
          "base_uri": "https://localhost:8080/"
        },
        "id": "EJSH4ZD7aQA3",
        "outputId": "94e304f0-07a4-4164-fd22-9edef09129a3"
      },
      "execution_count": 24,
      "outputs": [
        {
          "output_type": "stream",
          "name": "stdout",
          "text": [
            "               Body  Sweetness  Smoky  ...  Floral       %alc  cluster\n",
            "Distillery                             ...                            \n",
            "Aberfeldy       2.0        2.0    2.0  ...     2.0  46.230769        0\n",
            "Auchentoshan    0.0        2.0    0.0  ...     3.0  47.125000        0\n",
            "Balvenie        3.0        2.0    1.0  ...     2.0  47.513514        0\n",
            "Benriach        2.0        2.0    1.0  ...     2.0  48.475000        0\n",
            "Benromach       2.0        2.0    2.0  ...     2.0  46.583333        0\n",
            "Bunnahabhain    1.0        2.0    1.0  ...     3.0  48.486486        0\n",
            "Cardhu          1.0        3.0    1.0  ...     2.0  46.000000        0\n",
            "Craigellachie   2.0        2.0    2.0  ...     4.0  47.750000        0\n",
            "Dalwhinnie      2.0        2.0    2.0  ...     2.0  46.500000        0\n",
            "Deanston        2.0        2.0    1.0  ...     1.0  47.625000        0\n",
            "GlenGarioch     2.0        1.0    3.0  ...     2.0  47.500000        0\n",
            "GlenMoray       1.0        2.0    1.0  ...     4.0  46.105263        0\n",
            "GlenScotia      2.0        2.0    2.0  ...     1.0  47.150000        0\n",
            "GlenSpey        1.0        3.0    1.0  ...     2.0  48.000000        0\n",
            "Glendronach     4.0        2.0    2.0  ...     0.0  47.720000        0\n",
            "Glengoyne       1.0        2.0    0.0  ...     2.0  47.000000        0\n",
            "Glenlivet       2.0        3.0    1.0  ...     3.0  46.547619        0\n",
            "Glenlossie      1.0        2.0    1.0  ...     2.0  46.000000        0\n",
            "Glenmorangie    2.0        2.0    1.0  ...     2.0  45.647059        0\n",
            "Glenturret      2.0        3.0    1.0  ...     2.0  46.750000        0\n",
            "Inchgower       1.0        3.0    1.0  ...     2.0  46.000000        0\n",
            "Loch Lomond     1.0        1.0    1.0  ...     2.0  46.818182        0\n",
            "Longmorn        3.0        2.0    1.0  ...     3.0  47.736842        0\n",
            "Macallan        4.0        3.0    1.0  ...     1.0  47.166667        0\n",
            "Oban            2.0        2.0    2.0  ...     0.0  46.750000        0\n",
            "OldPulteney     2.0        1.0    2.0  ...     2.0  46.550000        0\n",
            "Speyside        2.0        2.0    1.0  ...     2.0  46.923077        0\n",
            "Strathisla      2.0        2.0    1.0  ...     2.0  45.250000        0\n",
            "Tamdhu          1.0        2.0    1.0  ...     2.0  48.400000        0\n",
            "Tomatin         2.0        3.0    2.0  ...     1.0  47.363636        0\n",
            "\n",
            "[30 rows x 14 columns]\n"
          ]
        }
      ]
    },
    {
      "cell_type": "code",
      "source": [
        "cluster_0 = whiskey[whiskey['cluster'] == 0]"
      ],
      "metadata": {
        "id": "UqOUCYMZVzuN"
      },
      "execution_count": null,
      "outputs": []
    },
    {
      "cell_type": "code",
      "source": [
        "cluster_0.describe()"
      ],
      "metadata": {
        "colab": {
          "base_uri": "https://localhost:8080/",
          "height": 300
        },
        "id": "qu0BCUupXI8-",
        "outputId": "f3cd81f9-bbfc-4fb0-d51f-d683825311fd"
      },
      "execution_count": null,
      "outputs": [
        {
          "output_type": "execute_result",
          "data": {
            "text/html": [
              "<div>\n",
              "<style scoped>\n",
              "    .dataframe tbody tr th:only-of-type {\n",
              "        vertical-align: middle;\n",
              "    }\n",
              "\n",
              "    .dataframe tbody tr th {\n",
              "        vertical-align: top;\n",
              "    }\n",
              "\n",
              "    .dataframe thead th {\n",
              "        text-align: right;\n",
              "    }\n",
              "</style>\n",
              "<table border=\"1\" class=\"dataframe\">\n",
              "  <thead>\n",
              "    <tr style=\"text-align: right;\">\n",
              "      <th></th>\n",
              "      <th>Body</th>\n",
              "      <th>Sweetness</th>\n",
              "      <th>Smoky</th>\n",
              "      <th>Medicinal</th>\n",
              "      <th>Tobacco</th>\n",
              "      <th>Honey</th>\n",
              "      <th>Spicy</th>\n",
              "      <th>Winey</th>\n",
              "      <th>Nutty</th>\n",
              "      <th>Malty</th>\n",
              "      <th>Fruity</th>\n",
              "      <th>Floral</th>\n",
              "      <th>%alc</th>\n",
              "      <th>cluster</th>\n",
              "    </tr>\n",
              "  </thead>\n",
              "  <tbody>\n",
              "    <tr>\n",
              "      <th>count</th>\n",
              "      <td>30.000000</td>\n",
              "      <td>30.000000</td>\n",
              "      <td>30.000000</td>\n",
              "      <td>30.000000</td>\n",
              "      <td>30.000000</td>\n",
              "      <td>30.000000</td>\n",
              "      <td>30.000000</td>\n",
              "      <td>30.000000</td>\n",
              "      <td>30.000000</td>\n",
              "      <td>30.000000</td>\n",
              "      <td>30.000000</td>\n",
              "      <td>30.000000</td>\n",
              "      <td>30.000000</td>\n",
              "      <td>30.0</td>\n",
              "    </tr>\n",
              "    <tr>\n",
              "      <th>mean</th>\n",
              "      <td>1.833333</td>\n",
              "      <td>2.133333</td>\n",
              "      <td>1.300000</td>\n",
              "      <td>0.333333</td>\n",
              "      <td>0.066667</td>\n",
              "      <td>1.400000</td>\n",
              "      <td>1.400000</td>\n",
              "      <td>1.033333</td>\n",
              "      <td>1.533333</td>\n",
              "      <td>2.066667</td>\n",
              "      <td>1.866667</td>\n",
              "      <td>2.000000</td>\n",
              "      <td>46.988915</td>\n",
              "      <td>0.0</td>\n",
              "    </tr>\n",
              "    <tr>\n",
              "      <th>std</th>\n",
              "      <td>0.874281</td>\n",
              "      <td>0.571346</td>\n",
              "      <td>0.651259</td>\n",
              "      <td>0.660895</td>\n",
              "      <td>0.253708</td>\n",
              "      <td>0.770132</td>\n",
              "      <td>0.723974</td>\n",
              "      <td>1.033352</td>\n",
              "      <td>0.776079</td>\n",
              "      <td>0.365148</td>\n",
              "      <td>0.776079</td>\n",
              "      <td>0.909718</td>\n",
              "      <td>0.837645</td>\n",
              "      <td>0.0</td>\n",
              "    </tr>\n",
              "    <tr>\n",
              "      <th>min</th>\n",
              "      <td>0.000000</td>\n",
              "      <td>1.000000</td>\n",
              "      <td>0.000000</td>\n",
              "      <td>0.000000</td>\n",
              "      <td>0.000000</td>\n",
              "      <td>0.000000</td>\n",
              "      <td>0.000000</td>\n",
              "      <td>0.000000</td>\n",
              "      <td>0.000000</td>\n",
              "      <td>1.000000</td>\n",
              "      <td>0.000000</td>\n",
              "      <td>0.000000</td>\n",
              "      <td>45.250000</td>\n",
              "      <td>0.0</td>\n",
              "    </tr>\n",
              "    <tr>\n",
              "      <th>25%</th>\n",
              "      <td>1.000000</td>\n",
              "      <td>2.000000</td>\n",
              "      <td>1.000000</td>\n",
              "      <td>0.000000</td>\n",
              "      <td>0.000000</td>\n",
              "      <td>1.000000</td>\n",
              "      <td>1.000000</td>\n",
              "      <td>0.000000</td>\n",
              "      <td>1.000000</td>\n",
              "      <td>2.000000</td>\n",
              "      <td>2.000000</td>\n",
              "      <td>2.000000</td>\n",
              "      <td>46.511905</td>\n",
              "      <td>0.0</td>\n",
              "    </tr>\n",
              "    <tr>\n",
              "      <th>50%</th>\n",
              "      <td>2.000000</td>\n",
              "      <td>2.000000</td>\n",
              "      <td>1.000000</td>\n",
              "      <td>0.000000</td>\n",
              "      <td>0.000000</td>\n",
              "      <td>1.500000</td>\n",
              "      <td>1.000000</td>\n",
              "      <td>1.000000</td>\n",
              "      <td>2.000000</td>\n",
              "      <td>2.000000</td>\n",
              "      <td>2.000000</td>\n",
              "      <td>2.000000</td>\n",
              "      <td>46.961538</td>\n",
              "      <td>0.0</td>\n",
              "    </tr>\n",
              "    <tr>\n",
              "      <th>75%</th>\n",
              "      <td>2.000000</td>\n",
              "      <td>2.000000</td>\n",
              "      <td>2.000000</td>\n",
              "      <td>0.000000</td>\n",
              "      <td>0.000000</td>\n",
              "      <td>2.000000</td>\n",
              "      <td>2.000000</td>\n",
              "      <td>1.000000</td>\n",
              "      <td>2.000000</td>\n",
              "      <td>2.000000</td>\n",
              "      <td>2.000000</td>\n",
              "      <td>2.000000</td>\n",
              "      <td>47.597128</td>\n",
              "      <td>0.0</td>\n",
              "    </tr>\n",
              "    <tr>\n",
              "      <th>max</th>\n",
              "      <td>4.000000</td>\n",
              "      <td>3.000000</td>\n",
              "      <td>3.000000</td>\n",
              "      <td>2.000000</td>\n",
              "      <td>1.000000</td>\n",
              "      <td>3.000000</td>\n",
              "      <td>3.000000</td>\n",
              "      <td>4.000000</td>\n",
              "      <td>3.000000</td>\n",
              "      <td>3.000000</td>\n",
              "      <td>3.000000</td>\n",
              "      <td>4.000000</td>\n",
              "      <td>48.486486</td>\n",
              "      <td>0.0</td>\n",
              "    </tr>\n",
              "  </tbody>\n",
              "</table>\n",
              "</div>"
            ],
            "text/plain": [
              "            Body  Sweetness      Smoky  ...     Floral       %alc  cluster\n",
              "count  30.000000  30.000000  30.000000  ...  30.000000  30.000000     30.0\n",
              "mean    1.833333   2.133333   1.300000  ...   2.000000  46.988915      0.0\n",
              "std     0.874281   0.571346   0.651259  ...   0.909718   0.837645      0.0\n",
              "min     0.000000   1.000000   0.000000  ...   0.000000  45.250000      0.0\n",
              "25%     1.000000   2.000000   1.000000  ...   2.000000  46.511905      0.0\n",
              "50%     2.000000   2.000000   1.000000  ...   2.000000  46.961538      0.0\n",
              "75%     2.000000   2.000000   2.000000  ...   2.000000  47.597128      0.0\n",
              "max     4.000000   3.000000   3.000000  ...   4.000000  48.486486      0.0\n",
              "\n",
              "[8 rows x 14 columns]"
            ]
          },
          "metadata": {},
          "execution_count": 20
        }
      ]
    },
    {
      "cell_type": "code",
      "source": [
        "cluster_2 = whiskey[whiskey['cluster'] == 2]"
      ],
      "metadata": {
        "id": "O9OyPRl3V2HM"
      },
      "execution_count": 26,
      "outputs": []
    },
    {
      "cell_type": "code",
      "source": [
        "print(cluster_2)"
      ],
      "metadata": {
        "colab": {
          "base_uri": "https://localhost:8080/"
        },
        "id": "Mq5Ww6bgagzw",
        "outputId": "e7a2d21f-6bd9-46fa-904a-b2c535831af9"
      },
      "execution_count": 27,
      "outputs": [
        {
          "output_type": "stream",
          "name": "stdout",
          "text": [
            "               Body  Sweetness  Smoky  ...  Floral       %alc  cluster\n",
            "Distillery                             ...                            \n",
            "Aberlour        3.0        3.0    1.0  ...     2.0  49.333333        2\n",
            "Ardmore         2.0        2.0    2.0  ...     1.0  50.000000        2\n",
            "ArranIsleOf     2.0        3.0    1.0  ...     2.0  49.756757        2\n",
            "Auchroisk       2.0        3.0    1.0  ...     1.0  53.285714        2\n",
            "Aultmore        2.0        2.0    1.0  ...     2.0  51.333333        2\n",
            "Balmenach       4.0        3.0    2.0  ...     2.0  50.500000        2\n",
            "BenNevis        4.0        2.0    2.0  ...     2.0  48.818182        2\n",
            "Benrinnes       3.0        2.0    2.0  ...     2.0  53.000000        2\n",
            "Bladnoch        1.0        2.0    1.0  ...     3.0  49.363636        2\n",
            "BlairAthol      2.0        2.0    2.0  ...     2.0  49.333333        2\n",
            "Bowmore         2.0        2.0    3.0  ...     2.0  50.406780        2\n",
            "Bruichladdich   1.0        1.0    2.0  ...     2.0  51.538462        2\n",
            "Cragganmore     2.0        3.0    2.0  ...     2.0  49.692308        2\n",
            "Dailuaine       4.0        2.0    2.0  ...     1.0  51.714286        2\n",
            "Edradour        2.0        3.0    1.0  ...     2.0  49.277778        2\n",
            "GlenElgin       2.0        3.0    1.0  ...     3.0  50.400000        2\n",
            "GlenGrant       1.0        2.0    0.0  ...     1.0  49.148148        2\n",
            "GlenKeith       2.0        3.0    1.0  ...     1.0  50.000000        2\n",
            "Glenallachie    1.0        3.0    1.0  ...     2.0  50.000000        2\n",
            "Glenfarclas     2.0        4.0    1.0  ...     2.0  49.258065        2\n",
            "Glenkinchie     1.0        2.0    1.0  ...     2.0  51.000000        2\n",
            "Highland Park   2.0        2.0    3.0  ...     1.0  48.709677        2\n",
            "Linkwood        2.0        3.0    1.0  ...     2.0  50.727273        2\n",
            "Mannochmore     2.0        1.0    1.0  ...     2.0  49.500000        2\n",
            "Miltonduff      2.0        4.0    1.0  ...     2.0  51.428571        2\n",
            "Mortlach        3.0        2.0    2.0  ...     2.0  49.181818        2\n",
            "Springbank      2.0        2.0    2.0  ...     1.0  50.135135        2\n",
            "Strathmill      2.0        3.0    1.0  ...     2.0  52.000000        2\n",
            "Teaninich       2.0        2.0    2.0  ...     2.0  52.333333        2\n",
            "Tobermory       1.0        1.0    1.0  ...     2.0  49.625000        2\n",
            "Tormore         2.0        2.0    1.0  ...     0.0  49.625000        2\n",
            "\n",
            "[31 rows x 14 columns]\n"
          ]
        }
      ]
    },
    {
      "cell_type": "code",
      "source": [
        "cluster_2.describe()"
      ],
      "metadata": {
        "colab": {
          "base_uri": "https://localhost:8080/",
          "height": 300
        },
        "id": "b0vgp7ikXLNv",
        "outputId": "f1731f42-7bfa-4eb8-e49b-4c9a9ea14d6d"
      },
      "execution_count": 28,
      "outputs": [
        {
          "output_type": "execute_result",
          "data": {
            "text/html": [
              "<div>\n",
              "<style scoped>\n",
              "    .dataframe tbody tr th:only-of-type {\n",
              "        vertical-align: middle;\n",
              "    }\n",
              "\n",
              "    .dataframe tbody tr th {\n",
              "        vertical-align: top;\n",
              "    }\n",
              "\n",
              "    .dataframe thead th {\n",
              "        text-align: right;\n",
              "    }\n",
              "</style>\n",
              "<table border=\"1\" class=\"dataframe\">\n",
              "  <thead>\n",
              "    <tr style=\"text-align: right;\">\n",
              "      <th></th>\n",
              "      <th>Body</th>\n",
              "      <th>Sweetness</th>\n",
              "      <th>Smoky</th>\n",
              "      <th>Medicinal</th>\n",
              "      <th>Tobacco</th>\n",
              "      <th>Honey</th>\n",
              "      <th>Spicy</th>\n",
              "      <th>Winey</th>\n",
              "      <th>Nutty</th>\n",
              "      <th>Malty</th>\n",
              "      <th>Fruity</th>\n",
              "      <th>Floral</th>\n",
              "      <th>%alc</th>\n",
              "      <th>cluster</th>\n",
              "    </tr>\n",
              "  </thead>\n",
              "  <tbody>\n",
              "    <tr>\n",
              "      <th>count</th>\n",
              "      <td>31.000000</td>\n",
              "      <td>31.000000</td>\n",
              "      <td>31.000000</td>\n",
              "      <td>31.000000</td>\n",
              "      <td>31.0</td>\n",
              "      <td>31.000000</td>\n",
              "      <td>31.000000</td>\n",
              "      <td>31.000000</td>\n",
              "      <td>31.000000</td>\n",
              "      <td>31.000000</td>\n",
              "      <td>31.000000</td>\n",
              "      <td>31.000000</td>\n",
              "      <td>31.000000</td>\n",
              "      <td>31.0</td>\n",
              "    </tr>\n",
              "    <tr>\n",
              "      <th>mean</th>\n",
              "      <td>2.096774</td>\n",
              "      <td>2.387097</td>\n",
              "      <td>1.451613</td>\n",
              "      <td>0.290323</td>\n",
              "      <td>0.0</td>\n",
              "      <td>1.354839</td>\n",
              "      <td>1.322581</td>\n",
              "      <td>1.064516</td>\n",
              "      <td>1.612903</td>\n",
              "      <td>1.612903</td>\n",
              "      <td>1.774194</td>\n",
              "      <td>1.774194</td>\n",
              "      <td>50.336320</td>\n",
              "      <td>2.0</td>\n",
              "    </tr>\n",
              "    <tr>\n",
              "      <th>std</th>\n",
              "      <td>0.830857</td>\n",
              "      <td>0.760588</td>\n",
              "      <td>0.675214</td>\n",
              "      <td>0.588419</td>\n",
              "      <td>0.0</td>\n",
              "      <td>0.877435</td>\n",
              "      <td>0.832150</td>\n",
              "      <td>0.928636</td>\n",
              "      <td>0.919327</td>\n",
              "      <td>0.803219</td>\n",
              "      <td>0.716923</td>\n",
              "      <td>0.616964</td>\n",
              "      <td>1.217765</td>\n",
              "      <td>0.0</td>\n",
              "    </tr>\n",
              "    <tr>\n",
              "      <th>min</th>\n",
              "      <td>1.000000</td>\n",
              "      <td>1.000000</td>\n",
              "      <td>0.000000</td>\n",
              "      <td>0.000000</td>\n",
              "      <td>0.0</td>\n",
              "      <td>0.000000</td>\n",
              "      <td>0.000000</td>\n",
              "      <td>0.000000</td>\n",
              "      <td>0.000000</td>\n",
              "      <td>0.000000</td>\n",
              "      <td>0.000000</td>\n",
              "      <td>0.000000</td>\n",
              "      <td>48.709677</td>\n",
              "      <td>2.0</td>\n",
              "    </tr>\n",
              "    <tr>\n",
              "      <th>25%</th>\n",
              "      <td>2.000000</td>\n",
              "      <td>2.000000</td>\n",
              "      <td>1.000000</td>\n",
              "      <td>0.000000</td>\n",
              "      <td>0.0</td>\n",
              "      <td>1.000000</td>\n",
              "      <td>1.000000</td>\n",
              "      <td>0.000000</td>\n",
              "      <td>1.000000</td>\n",
              "      <td>1.000000</td>\n",
              "      <td>1.500000</td>\n",
              "      <td>1.500000</td>\n",
              "      <td>49.348485</td>\n",
              "      <td>2.0</td>\n",
              "    </tr>\n",
              "    <tr>\n",
              "      <th>50%</th>\n",
              "      <td>2.000000</td>\n",
              "      <td>2.000000</td>\n",
              "      <td>1.000000</td>\n",
              "      <td>0.000000</td>\n",
              "      <td>0.0</td>\n",
              "      <td>1.000000</td>\n",
              "      <td>1.000000</td>\n",
              "      <td>1.000000</td>\n",
              "      <td>2.000000</td>\n",
              "      <td>2.000000</td>\n",
              "      <td>2.000000</td>\n",
              "      <td>2.000000</td>\n",
              "      <td>50.000000</td>\n",
              "      <td>2.0</td>\n",
              "    </tr>\n",
              "    <tr>\n",
              "      <th>75%</th>\n",
              "      <td>2.000000</td>\n",
              "      <td>3.000000</td>\n",
              "      <td>2.000000</td>\n",
              "      <td>0.000000</td>\n",
              "      <td>0.0</td>\n",
              "      <td>2.000000</td>\n",
              "      <td>2.000000</td>\n",
              "      <td>1.500000</td>\n",
              "      <td>2.000000</td>\n",
              "      <td>2.000000</td>\n",
              "      <td>2.000000</td>\n",
              "      <td>2.000000</td>\n",
              "      <td>51.166667</td>\n",
              "      <td>2.0</td>\n",
              "    </tr>\n",
              "    <tr>\n",
              "      <th>max</th>\n",
              "      <td>4.000000</td>\n",
              "      <td>4.000000</td>\n",
              "      <td>3.000000</td>\n",
              "      <td>2.000000</td>\n",
              "      <td>0.0</td>\n",
              "      <td>4.000000</td>\n",
              "      <td>3.000000</td>\n",
              "      <td>3.000000</td>\n",
              "      <td>4.000000</td>\n",
              "      <td>3.000000</td>\n",
              "      <td>3.000000</td>\n",
              "      <td>3.000000</td>\n",
              "      <td>53.285714</td>\n",
              "      <td>2.0</td>\n",
              "    </tr>\n",
              "  </tbody>\n",
              "</table>\n",
              "</div>"
            ],
            "text/plain": [
              "            Body  Sweetness      Smoky  ...     Floral       %alc  cluster\n",
              "count  31.000000  31.000000  31.000000  ...  31.000000  31.000000     31.0\n",
              "mean    2.096774   2.387097   1.451613  ...   1.774194  50.336320      2.0\n",
              "std     0.830857   0.760588   0.675214  ...   0.616964   1.217765      0.0\n",
              "min     1.000000   1.000000   0.000000  ...   0.000000  48.709677      2.0\n",
              "25%     2.000000   2.000000   1.000000  ...   1.500000  49.348485      2.0\n",
              "50%     2.000000   2.000000   1.000000  ...   2.000000  50.000000      2.0\n",
              "75%     2.000000   3.000000   2.000000  ...   2.000000  51.166667      2.0\n",
              "max     4.000000   4.000000   3.000000  ...   3.000000  53.285714      2.0\n",
              "\n",
              "[8 rows x 14 columns]"
            ]
          },
          "metadata": {},
          "execution_count": 28
        }
      ]
    },
    {
      "cell_type": "code",
      "source": [
        "cluster_3 = whiskey[whiskey['cluster'] == 3]"
      ],
      "metadata": {
        "id": "Rukao-oMV4Km"
      },
      "execution_count": 29,
      "outputs": []
    },
    {
      "cell_type": "code",
      "source": [
        "print(cluster_3)"
      ],
      "metadata": {
        "colab": {
          "base_uri": "https://localhost:8080/"
        },
        "id": "nFjbTM66bHKv",
        "outputId": "c9bed6f2-ea55-4390-ca01-7e243b2da1f0"
      },
      "execution_count": 30,
      "outputs": [
        {
          "output_type": "stream",
          "name": "stdout",
          "text": [
            "                    Body  Sweetness  Smoky  ...  Floral       %alc  cluster\n",
            "Distillery                                  ...                            \n",
            "AnCnoc               1.0        3.0    2.0  ...     2.0  45.000000        3\n",
            "Balblair             2.0        3.0    2.0  ...     1.0  44.954545        3\n",
            "Dalmore              3.0        2.0    2.0  ...     1.0  45.046512        3\n",
            "Dufftown             2.0        3.0    1.0  ...     2.0  43.750000        3\n",
            "GlenDeveronMacduff   2.0        3.0    1.0  ...     1.0  44.428571        3\n",
            "GlenOrd              3.0        2.0    1.0  ...     2.0  44.142857        3\n",
            "Glendullan           3.0        2.0    1.0  ...     2.0  44.500000        3\n",
            "Glenfiddich          1.0        3.0    1.0  ...     2.0  43.315789        3\n",
            "Glenrothes           2.0        3.0    1.0  ...     0.0  45.234043        3\n",
            "Isle of Jura         2.0        1.0    2.0  ...     1.0  44.250000        3\n",
            "Knockando            2.0        3.0    1.0  ...     2.0  43.000000        3\n",
            "OldFettercairn       1.0        2.0    2.0  ...     1.0  42.250000        3\n",
            "RoyalBrackla         2.0        3.0    2.0  ...     2.0  45.666667        3\n",
            "RoyalLochnagar       3.0        2.0    2.0  ...     1.0  42.833333        3\n",
            "Scapa                2.0        2.0    1.0  ...     2.0  44.000000        3\n",
            "Speyburn             2.0        4.0    1.0  ...     2.0  42.000000        3\n",
            "Tamnavulin           1.0        3.0    2.0  ...     3.0  43.000000        3\n",
            "Tomintoul            0.0        3.0    1.0  ...     2.0  43.692308        3\n",
            "Tullibardine         2.0        3.0    0.0  ...     1.0  45.000000        3\n",
            "\n",
            "[19 rows x 14 columns]\n"
          ]
        }
      ]
    },
    {
      "cell_type": "code",
      "source": [
        "cluster_3.describe()"
      ],
      "metadata": {
        "colab": {
          "base_uri": "https://localhost:8080/",
          "height": 300
        },
        "id": "g8cXRPTNXNNo",
        "outputId": "529b58cc-c149-428d-bf66-2b8f46d7dce4"
      },
      "execution_count": null,
      "outputs": [
        {
          "output_type": "execute_result",
          "data": {
            "text/html": [
              "<div>\n",
              "<style scoped>\n",
              "    .dataframe tbody tr th:only-of-type {\n",
              "        vertical-align: middle;\n",
              "    }\n",
              "\n",
              "    .dataframe tbody tr th {\n",
              "        vertical-align: top;\n",
              "    }\n",
              "\n",
              "    .dataframe thead th {\n",
              "        text-align: right;\n",
              "    }\n",
              "</style>\n",
              "<table border=\"1\" class=\"dataframe\">\n",
              "  <thead>\n",
              "    <tr style=\"text-align: right;\">\n",
              "      <th></th>\n",
              "      <th>Body</th>\n",
              "      <th>Sweetness</th>\n",
              "      <th>Smoky</th>\n",
              "      <th>Medicinal</th>\n",
              "      <th>Tobacco</th>\n",
              "      <th>Honey</th>\n",
              "      <th>Spicy</th>\n",
              "      <th>Winey</th>\n",
              "      <th>Nutty</th>\n",
              "      <th>Malty</th>\n",
              "      <th>Fruity</th>\n",
              "      <th>Floral</th>\n",
              "      <th>%alc</th>\n",
              "      <th>cluster</th>\n",
              "    </tr>\n",
              "  </thead>\n",
              "  <tbody>\n",
              "    <tr>\n",
              "      <th>count</th>\n",
              "      <td>19.000000</td>\n",
              "      <td>19.000000</td>\n",
              "      <td>19.000000</td>\n",
              "      <td>19.000000</td>\n",
              "      <td>19.000000</td>\n",
              "      <td>19.000000</td>\n",
              "      <td>19.000000</td>\n",
              "      <td>19.000000</td>\n",
              "      <td>19.000000</td>\n",
              "      <td>19.000000</td>\n",
              "      <td>19.000000</td>\n",
              "      <td>19.000000</td>\n",
              "      <td>19.000000</td>\n",
              "      <td>19.0</td>\n",
              "    </tr>\n",
              "    <tr>\n",
              "      <th>mean</th>\n",
              "      <td>1.894737</td>\n",
              "      <td>2.631579</td>\n",
              "      <td>1.368421</td>\n",
              "      <td>0.421053</td>\n",
              "      <td>0.210526</td>\n",
              "      <td>1.157895</td>\n",
              "      <td>1.368421</td>\n",
              "      <td>0.894737</td>\n",
              "      <td>1.210526</td>\n",
              "      <td>1.842105</td>\n",
              "      <td>1.947368</td>\n",
              "      <td>1.578947</td>\n",
              "      <td>44.003401</td>\n",
              "      <td>3.0</td>\n",
              "    </tr>\n",
              "    <tr>\n",
              "      <th>std</th>\n",
              "      <td>0.809303</td>\n",
              "      <td>0.683986</td>\n",
              "      <td>0.597265</td>\n",
              "      <td>0.606977</td>\n",
              "      <td>0.418854</td>\n",
              "      <td>0.834210</td>\n",
              "      <td>0.760886</td>\n",
              "      <td>0.809303</td>\n",
              "      <td>0.787327</td>\n",
              "      <td>0.501460</td>\n",
              "      <td>0.848115</td>\n",
              "      <td>0.692483</td>\n",
              "      <td>1.050721</td>\n",
              "      <td>0.0</td>\n",
              "    </tr>\n",
              "    <tr>\n",
              "      <th>min</th>\n",
              "      <td>0.000000</td>\n",
              "      <td>1.000000</td>\n",
              "      <td>0.000000</td>\n",
              "      <td>0.000000</td>\n",
              "      <td>0.000000</td>\n",
              "      <td>0.000000</td>\n",
              "      <td>0.000000</td>\n",
              "      <td>0.000000</td>\n",
              "      <td>0.000000</td>\n",
              "      <td>1.000000</td>\n",
              "      <td>0.000000</td>\n",
              "      <td>0.000000</td>\n",
              "      <td>42.000000</td>\n",
              "      <td>3.0</td>\n",
              "    </tr>\n",
              "    <tr>\n",
              "      <th>25%</th>\n",
              "      <td>1.500000</td>\n",
              "      <td>2.000000</td>\n",
              "      <td>1.000000</td>\n",
              "      <td>0.000000</td>\n",
              "      <td>0.000000</td>\n",
              "      <td>0.500000</td>\n",
              "      <td>1.000000</td>\n",
              "      <td>0.000000</td>\n",
              "      <td>1.000000</td>\n",
              "      <td>2.000000</td>\n",
              "      <td>1.500000</td>\n",
              "      <td>1.000000</td>\n",
              "      <td>43.157895</td>\n",
              "      <td>3.0</td>\n",
              "    </tr>\n",
              "    <tr>\n",
              "      <th>50%</th>\n",
              "      <td>2.000000</td>\n",
              "      <td>3.000000</td>\n",
              "      <td>1.000000</td>\n",
              "      <td>0.000000</td>\n",
              "      <td>0.000000</td>\n",
              "      <td>1.000000</td>\n",
              "      <td>2.000000</td>\n",
              "      <td>1.000000</td>\n",
              "      <td>1.000000</td>\n",
              "      <td>2.000000</td>\n",
              "      <td>2.000000</td>\n",
              "      <td>2.000000</td>\n",
              "      <td>44.142857</td>\n",
              "      <td>3.0</td>\n",
              "    </tr>\n",
              "    <tr>\n",
              "      <th>75%</th>\n",
              "      <td>2.000000</td>\n",
              "      <td>3.000000</td>\n",
              "      <td>2.000000</td>\n",
              "      <td>1.000000</td>\n",
              "      <td>0.000000</td>\n",
              "      <td>2.000000</td>\n",
              "      <td>2.000000</td>\n",
              "      <td>1.500000</td>\n",
              "      <td>2.000000</td>\n",
              "      <td>2.000000</td>\n",
              "      <td>2.500000</td>\n",
              "      <td>2.000000</td>\n",
              "      <td>44.977273</td>\n",
              "      <td>3.0</td>\n",
              "    </tr>\n",
              "    <tr>\n",
              "      <th>max</th>\n",
              "      <td>3.000000</td>\n",
              "      <td>4.000000</td>\n",
              "      <td>2.000000</td>\n",
              "      <td>2.000000</td>\n",
              "      <td>1.000000</td>\n",
              "      <td>2.000000</td>\n",
              "      <td>2.000000</td>\n",
              "      <td>2.000000</td>\n",
              "      <td>2.000000</td>\n",
              "      <td>3.000000</td>\n",
              "      <td>3.000000</td>\n",
              "      <td>3.000000</td>\n",
              "      <td>45.666667</td>\n",
              "      <td>3.0</td>\n",
              "    </tr>\n",
              "  </tbody>\n",
              "</table>\n",
              "</div>"
            ],
            "text/plain": [
              "            Body  Sweetness      Smoky  ...     Floral       %alc  cluster\n",
              "count  19.000000  19.000000  19.000000  ...  19.000000  19.000000     19.0\n",
              "mean    1.894737   2.631579   1.368421  ...   1.578947  44.003401      3.0\n",
              "std     0.809303   0.683986   0.597265  ...   0.692483   1.050721      0.0\n",
              "min     0.000000   1.000000   0.000000  ...   0.000000  42.000000      3.0\n",
              "25%     1.500000   2.000000   1.000000  ...   1.000000  43.157895      3.0\n",
              "50%     2.000000   3.000000   1.000000  ...   2.000000  44.142857      3.0\n",
              "75%     2.000000   3.000000   2.000000  ...   2.000000  44.977273      3.0\n",
              "max     3.000000   4.000000   2.000000  ...   3.000000  45.666667      3.0\n",
              "\n",
              "[8 rows x 14 columns]"
            ]
          },
          "metadata": {},
          "execution_count": 38
        }
      ]
    },
    {
      "cell_type": "code",
      "source": [
        "whiskey['cluster'].hist()"
      ],
      "metadata": {
        "colab": {
          "base_uri": "https://localhost:8080/",
          "height": 363
        },
        "id": "qiPm85SmWsjD",
        "outputId": "f2078a55-ef2c-414e-b756-1bd0dd5283c0"
      },
      "execution_count": null,
      "outputs": [
        {
          "output_type": "execute_result",
          "data": {
            "text/plain": [
              "<matplotlib.axes._subplots.AxesSubplot at 0x7f892b3c0810>"
            ]
          },
          "metadata": {},
          "execution_count": 19
        },
        {
          "output_type": "display_data",
          "data": {
            "image/png": "[encoded data removed]",
            "text/plain": [
              "<Figure size 576x396 with 1 Axes>"
            ]
          },
          "metadata": {}
        }
      ]
    },
    {
      "cell_type": "code",
      "metadata": {
        "colab": {
          "base_uri": "https://localhost:8080/"
        },
        "id": "M2atS1bw7LVp",
        "outputId": "698864f5-fff6-406a-cf3f-cfda6ba3a1e6"
      },
      "source": [
        "#displaing cluster labels\n",
        "kmeans.labels_"
      ],
      "execution_count": null,
      "outputs": [
        {
          "output_type": "execute_result",
          "data": {
            "text/plain": [
              "array([0, 2, 3, 1, 2, 2, 0, 2, 2, 3, 2, 0, 2, 0, 2, 0, 2, 2, 2, 2, 0, 1,\n",
              "       0, 1, 2, 0, 2, 3, 0, 0, 3, 2, 3, 2, 0, 2, 2, 0, 3, 0, 0, 2, 0, 3,\n",
              "       2, 3, 0, 2, 0, 0, 0, 3, 0, 2, 0, 3, 3, 1, 1, 2, 0, 0, 0, 2, 2, 2,\n",
              "       0, 3, 0, 3, 3, 3, 3, 0, 2, 0, 2, 1, 0, 3, 2, 2, 0, 3, 2, 3],\n",
              "      dtype=int32)"
            ]
          },
          "metadata": {},
          "execution_count": 20
        }
      ]
    },
    {
      "cell_type": "code",
      "metadata": {
        "colab": {
          "base_uri": "https://localhost:8080/"
        },
        "id": "VtUzW6kVDhF7",
        "outputId": "b856094e-685a-404e-e08f-2a32a1c19567"
      },
      "source": [
        "#inertia for kmeans\n",
        "kmeans.inertia_"
      ],
      "execution_count": null,
      "outputs": [
        {
          "output_type": "execute_result",
          "data": {
            "text/plain": [
              "617.2150050106516"
            ]
          },
          "metadata": {},
          "execution_count": 21
        }
      ]
    },
    {
      "cell_type": "code",
      "metadata": {
        "colab": {
          "base_uri": "https://localhost:8080/"
        },
        "id": "ev0SnP89Djk-",
        "outputId": "71e8facb-4890-47c4-c2da-3c0de6a728d0"
      },
      "source": [
        "#number of iterations \n",
        "kmeans.n_iter_"
      ],
      "execution_count": null,
      "outputs": [
        {
          "output_type": "execute_result",
          "data": {
            "text/plain": [
              "5"
            ]
          },
          "metadata": {},
          "execution_count": 22
        }
      ]
    },
    {
      "cell_type": "code",
      "metadata": {
        "colab": {
          "base_uri": "https://localhost:8080/"
        },
        "id": "CPtGNVfOAcvL",
        "outputId": "3cab295d-c3fa-4fb4-8bc0-8b12058f40f7"
      },
      "source": [
        "kmeans.cluster_centers_"
      ],
      "execution_count": null,
      "outputs": [
        {
          "output_type": "execute_result",
          "data": {
            "text/plain": [
              "array([[ 1.83333333e+00,  2.13333333e+00,  1.30000000e+00,\n",
              "         3.33333333e-01,  6.66666667e-02,  1.40000000e+00,\n",
              "         1.40000000e+00,  1.03333333e+00,  1.53333333e+00,\n",
              "         2.06666667e+00,  1.86666667e+00,  2.00000000e+00,\n",
              "         4.69889149e+01],\n",
              "       [ 3.66666667e+00,  1.50000000e+00,  3.66666667e+00,\n",
              "         3.33333333e+00,  6.66666667e-01,  1.66666667e-01,\n",
              "         1.66666667e+00,  5.00000000e-01,  1.16666667e+00,\n",
              "         1.33333333e+00,  1.16666667e+00,  1.66666667e-01,\n",
              "         4.99020134e+01],\n",
              "       [ 2.09677419e+00,  2.38709677e+00,  1.45161290e+00,\n",
              "         2.90322581e-01, -9.71445147e-17,  1.35483871e+00,\n",
              "         1.32258065e+00,  1.06451613e+00,  1.61290323e+00,\n",
              "         1.61290323e+00,  1.77419355e+00,  1.77419355e+00,\n",
              "         5.03363201e+01],\n",
              "       [ 1.89473684e+00,  2.63157895e+00,  1.36842105e+00,\n",
              "         4.21052632e-01,  2.10526316e-01,  1.15789474e+00,\n",
              "         1.36842105e+00,  8.94736842e-01,  1.21052632e+00,\n",
              "         1.84210526e+00,  1.94736842e+00,  1.57894737e+00,\n",
              "         4.40034013e+01]])"
            ]
          },
          "metadata": {},
          "execution_count": 23
        }
      ]
    },
    {
      "cell_type": "code",
      "metadata": {
        "colab": {
          "base_uri": "https://localhost:8080/"
        },
        "id": "t05FUFneBCDz",
        "outputId": "cd1db6be-1f4b-4c20-ffc4-fc635e08a1f0"
      },
      "source": [
        "#looking at distribution of clusters\n",
        "from collections import Counter\n",
        "Counter(kmeans.labels_)"
      ],
      "execution_count": null,
      "outputs": [
        {
          "output_type": "execute_result",
          "data": {
            "text/plain": [
              "Counter({0: 30, 1: 6, 2: 31, 3: 19})"
            ]
          },
          "metadata": {},
          "execution_count": 24
        }
      ]
    },
    {
      "cell_type": "code",
      "metadata": {
        "colab": {
          "base_uri": "https://localhost:8080/",
          "height": 361
        },
        "id": "4iWS9C6DFD34",
        "outputId": "b1359525-e98c-4a06-cd7f-5c49bf34cf8d"
      },
      "source": [
        "#plotting clusters based on alc & review points\n",
        "import seaborn as sns\n",
        "import matplotlib.pyplot as plt\n",
        "sns.scatterplot(data = whiskey, x = whiskey['Honey'], y =whiskey['Floral'], hue = kmeans.labels_)\n",
        "plt.show()"
      ],
      "execution_count": null,
      "outputs": [
        {
          "output_type": "display_data",
          "data": {
            "image/png": "[encoded data removed]",
            "text/plain": [
              "<Figure size 576x396 with 1 Axes>"
            ]
          },
          "metadata": {}
        }
      ]
    },
    {
      "cell_type": "code",
      "metadata": {
        "colab": {
          "base_uri": "https://localhost:8080/",
          "height": 361
        },
        "id": "jn5soVMQFSiQ",
        "outputId": "39834ebe-c68c-4291-a778-a9996b133545"
      },
      "source": [
        "#plotting clusters and centroids based on smoky & floral\n",
        "sns.scatterplot(data = whiskey, x = whiskey['Smoky'], y =whiskey['Floral'], hue = kmeans.labels_)\n",
        "plt.scatter(kmeans.cluster_centers_[:,0], kmeans.cluster_centers_[:,1], \n",
        "            marker=\"X\", c=\"r\", s=80, label=\"centroids\")\n",
        "plt.legend()\n",
        "plt.show()"
      ],
      "execution_count": null,
      "outputs": [
        {
          "output_type": "display_data",
          "data": {
            "image/png": "[encoded data removed]",
            "text/plain": [
              "<Figure size 576x396 with 1 Axes>"
            ]
          },
          "metadata": {}
        }
      ]
    },
    {
      "cell_type": "code",
      "source": [
        "#creating kmeans clusters- with more clusters\n",
        "kmeans2 = KMeans(n_clusters = 6,init = 'k-means++',random_state = 0).fit(whiskey)\n"
      ],
      "metadata": {
        "id": "z4GcOzSd2h5x"
      },
      "execution_count": null,
      "outputs": []
    },
    {
      "cell_type": "code",
      "source": [
        "#printing out the predicted clusters for each distillery\n",
        "y_predicted2 = kmeans2.fit_predict(whiskey)\n",
        "y_predicted2"
      ],
      "metadata": {
        "colab": {
          "base_uri": "https://localhost:8080/"
        },
        "id": "1lA_Su6c2_yT",
        "outputId": "8c7e76b9-d163-4d7b-f636-2f7ab1f96da9"
      },
      "execution_count": null,
      "outputs": [
        {
          "output_type": "execute_result",
          "data": {
            "text/plain": [
              "array([5, 4, 5, 2, 0, 0, 3, 0, 0, 5, 4, 4, 4, 4, 0, 3, 0, 4, 4, 0, 4, 2,\n",
              "       3, 2, 4, 4, 0, 5, 3, 3, 1, 0, 5, 4, 4, 0, 0, 3, 1, 5, 3, 0, 4, 1,\n",
              "       4, 5, 5, 0, 5, 1, 5, 5, 3, 4, 3, 1, 1, 2, 2, 0, 1, 3, 4, 0, 0, 4,\n",
              "       5, 1, 5, 5, 1, 5, 5, 3, 4, 5, 0, 2, 4, 5, 0, 0, 3, 5, 0, 3],\n",
              "      dtype=int32)"
            ]
          },
          "metadata": {},
          "execution_count": 23
        }
      ]
    },
    {
      "cell_type": "code",
      "source": [
        "#adding in clusters to the dataset\n",
        "whiskey['cluster2'] = y_predicted2\n",
        "whiskey.head()"
      ],
      "metadata": {
        "colab": {
          "base_uri": "https://localhost:8080/",
          "height": 238
        },
        "id": "AZLDGLlC2vGN",
        "outputId": "7a80592e-d352-403e-eceb-c456d80132da"
      },
      "execution_count": null,
      "outputs": [
        {
          "output_type": "execute_result",
          "data": {
            "text/html": [
              "<div>\n",
              "<style scoped>\n",
              "    .dataframe tbody tr th:only-of-type {\n",
              "        vertical-align: middle;\n",
              "    }\n",
              "\n",
              "    .dataframe tbody tr th {\n",
              "        vertical-align: top;\n",
              "    }\n",
              "\n",
              "    .dataframe thead th {\n",
              "        text-align: right;\n",
              "    }\n",
              "</style>\n",
              "<table border=\"1\" class=\"dataframe\">\n",
              "  <thead>\n",
              "    <tr style=\"text-align: right;\">\n",
              "      <th></th>\n",
              "      <th>Body</th>\n",
              "      <th>Sweetness</th>\n",
              "      <th>Smoky</th>\n",
              "      <th>Medicinal</th>\n",
              "      <th>Tobacco</th>\n",
              "      <th>Honey</th>\n",
              "      <th>Spicy</th>\n",
              "      <th>Winey</th>\n",
              "      <th>Nutty</th>\n",
              "      <th>Malty</th>\n",
              "      <th>Fruity</th>\n",
              "      <th>Floral</th>\n",
              "      <th>%alc</th>\n",
              "      <th>review_point</th>\n",
              "      <th>cluster</th>\n",
              "      <th>cluster2</th>\n",
              "    </tr>\n",
              "    <tr>\n",
              "      <th>Distillery</th>\n",
              "      <th></th>\n",
              "      <th></th>\n",
              "      <th></th>\n",
              "      <th></th>\n",
              "      <th></th>\n",
              "      <th></th>\n",
              "      <th></th>\n",
              "      <th></th>\n",
              "      <th></th>\n",
              "      <th></th>\n",
              "      <th></th>\n",
              "      <th></th>\n",
              "      <th></th>\n",
              "      <th></th>\n",
              "      <th></th>\n",
              "      <th></th>\n",
              "    </tr>\n",
              "  </thead>\n",
              "  <tbody>\n",
              "    <tr>\n",
              "      <th>Aberfeldy</th>\n",
              "      <td>2.0</td>\n",
              "      <td>2.0</td>\n",
              "      <td>2.0</td>\n",
              "      <td>0.0</td>\n",
              "      <td>0.0</td>\n",
              "      <td>2.0</td>\n",
              "      <td>1.0</td>\n",
              "      <td>2.0</td>\n",
              "      <td>2.0</td>\n",
              "      <td>2.0</td>\n",
              "      <td>2.0</td>\n",
              "      <td>2.0</td>\n",
              "      <td>46.230769</td>\n",
              "      <td>86.692308</td>\n",
              "      <td>2</td>\n",
              "      <td>5</td>\n",
              "    </tr>\n",
              "    <tr>\n",
              "      <th>Aberlour</th>\n",
              "      <td>3.0</td>\n",
              "      <td>3.0</td>\n",
              "      <td>1.0</td>\n",
              "      <td>0.0</td>\n",
              "      <td>0.0</td>\n",
              "      <td>4.0</td>\n",
              "      <td>3.0</td>\n",
              "      <td>2.0</td>\n",
              "      <td>2.0</td>\n",
              "      <td>3.0</td>\n",
              "      <td>3.0</td>\n",
              "      <td>2.0</td>\n",
              "      <td>49.333333</td>\n",
              "      <td>87.666667</td>\n",
              "      <td>3</td>\n",
              "      <td>4</td>\n",
              "    </tr>\n",
              "    <tr>\n",
              "      <th>AnCnoc</th>\n",
              "      <td>1.0</td>\n",
              "      <td>3.0</td>\n",
              "      <td>2.0</td>\n",
              "      <td>0.0</td>\n",
              "      <td>0.0</td>\n",
              "      <td>2.0</td>\n",
              "      <td>0.0</td>\n",
              "      <td>0.0</td>\n",
              "      <td>2.0</td>\n",
              "      <td>2.0</td>\n",
              "      <td>3.0</td>\n",
              "      <td>2.0</td>\n",
              "      <td>45.000000</td>\n",
              "      <td>89.000000</td>\n",
              "      <td>2</td>\n",
              "      <td>5</td>\n",
              "    </tr>\n",
              "    <tr>\n",
              "      <th>Ardbeg</th>\n",
              "      <td>4.0</td>\n",
              "      <td>1.0</td>\n",
              "      <td>4.0</td>\n",
              "      <td>4.0</td>\n",
              "      <td>0.0</td>\n",
              "      <td>0.0</td>\n",
              "      <td>2.0</td>\n",
              "      <td>0.0</td>\n",
              "      <td>1.0</td>\n",
              "      <td>2.0</td>\n",
              "      <td>1.0</td>\n",
              "      <td>0.0</td>\n",
              "      <td>50.344828</td>\n",
              "      <td>89.833333</td>\n",
              "      <td>1</td>\n",
              "      <td>2</td>\n",
              "    </tr>\n",
              "    <tr>\n",
              "      <th>Ardmore</th>\n",
              "      <td>2.0</td>\n",
              "      <td>2.0</td>\n",
              "      <td>2.0</td>\n",
              "      <td>0.0</td>\n",
              "      <td>0.0</td>\n",
              "      <td>1.0</td>\n",
              "      <td>1.0</td>\n",
              "      <td>1.0</td>\n",
              "      <td>2.0</td>\n",
              "      <td>3.0</td>\n",
              "      <td>1.0</td>\n",
              "      <td>1.0</td>\n",
              "      <td>50.000000</td>\n",
              "      <td>86.571429</td>\n",
              "      <td>3</td>\n",
              "      <td>0</td>\n",
              "    </tr>\n",
              "  </tbody>\n",
              "</table>\n",
              "</div>"
            ],
            "text/plain": [
              "            Body  Sweetness  Smoky  ...  review_point  cluster  cluster2\n",
              "Distillery                          ...                                 \n",
              "Aberfeldy    2.0        2.0    2.0  ...     86.692308        2         5\n",
              "Aberlour     3.0        3.0    1.0  ...     87.666667        3         4\n",
              "AnCnoc       1.0        3.0    2.0  ...     89.000000        2         5\n",
              "Ardbeg       4.0        1.0    4.0  ...     89.833333        1         2\n",
              "Ardmore      2.0        2.0    2.0  ...     86.571429        3         0\n",
              "\n",
              "[5 rows x 16 columns]"
            ]
          },
          "metadata": {},
          "execution_count": 24
        }
      ]
    },
    {
      "cell_type": "code",
      "source": [
        "whiskey['cluster2'].hist()"
      ],
      "metadata": {
        "colab": {
          "base_uri": "https://localhost:8080/",
          "height": 364
        },
        "id": "0Wo5FdTA2x7a",
        "outputId": "8f206640-fc17-4930-dae8-eb3ea34abafb"
      },
      "execution_count": null,
      "outputs": [
        {
          "output_type": "execute_result",
          "data": {
            "text/plain": [
              "<matplotlib.axes._subplots.AxesSubplot at 0x7fdad4aa0290>"
            ]
          },
          "metadata": {},
          "execution_count": 25
        },
        {
          "output_type": "display_data",
          "data": {
            "image/png": "[encoded data removed]",
            "text/plain": [
              "<Figure size 576x396 with 1 Axes>"
            ]
          },
          "metadata": {}
        }
      ]
    },
    {
      "cell_type": "code",
      "source": [
        "display(whiskey)"
      ],
      "metadata": {
        "colab": {
          "base_uri": "https://localhost:8080/",
          "height": 455
        },
        "id": "tmaM0qfv4F34",
        "outputId": "f6f39562-cf17-47da-c780-1691a51485ae"
      },
      "execution_count": null,
      "outputs": [
        {
          "output_type": "display_data",
          "data": {
            "text/html": [
              "<div>\n",
              "<style scoped>\n",
              "    .dataframe tbody tr th:only-of-type {\n",
              "        vertical-align: middle;\n",
              "    }\n",
              "\n",
              "    .dataframe tbody tr th {\n",
              "        vertical-align: top;\n",
              "    }\n",
              "\n",
              "    .dataframe thead th {\n",
              "        text-align: right;\n",
              "    }\n",
              "</style>\n",
              "<table border=\"1\" class=\"dataframe\">\n",
              "  <thead>\n",
              "    <tr style=\"text-align: right;\">\n",
              "      <th></th>\n",
              "      <th>Body</th>\n",
              "      <th>Sweetness</th>\n",
              "      <th>Smoky</th>\n",
              "      <th>Medicinal</th>\n",
              "      <th>Tobacco</th>\n",
              "      <th>Honey</th>\n",
              "      <th>Spicy</th>\n",
              "      <th>Winey</th>\n",
              "      <th>Nutty</th>\n",
              "      <th>Malty</th>\n",
              "      <th>Fruity</th>\n",
              "      <th>Floral</th>\n",
              "      <th>%alc</th>\n",
              "      <th>review_point</th>\n",
              "      <th>cluster</th>\n",
              "      <th>cluster2</th>\n",
              "    </tr>\n",
              "    <tr>\n",
              "      <th>Distillery</th>\n",
              "      <th></th>\n",
              "      <th></th>\n",
              "      <th></th>\n",
              "      <th></th>\n",
              "      <th></th>\n",
              "      <th></th>\n",
              "      <th></th>\n",
              "      <th></th>\n",
              "      <th></th>\n",
              "      <th></th>\n",
              "      <th></th>\n",
              "      <th></th>\n",
              "      <th></th>\n",
              "      <th></th>\n",
              "      <th></th>\n",
              "      <th></th>\n",
              "    </tr>\n",
              "  </thead>\n",
              "  <tbody>\n",
              "    <tr>\n",
              "      <th>Aberfeldy</th>\n",
              "      <td>2.0</td>\n",
              "      <td>2.0</td>\n",
              "      <td>2.0</td>\n",
              "      <td>0.0</td>\n",
              "      <td>0.0</td>\n",
              "      <td>2.0</td>\n",
              "      <td>1.0</td>\n",
              "      <td>2.0</td>\n",
              "      <td>2.0</td>\n",
              "      <td>2.0</td>\n",
              "      <td>2.0</td>\n",
              "      <td>2.0</td>\n",
              "      <td>46.230769</td>\n",
              "      <td>86.692308</td>\n",
              "      <td>2</td>\n",
              "      <td>5</td>\n",
              "    </tr>\n",
              "    <tr>\n",
              "      <th>Aberlour</th>\n",
              "      <td>3.0</td>\n",
              "      <td>3.0</td>\n",
              "      <td>1.0</td>\n",
              "      <td>0.0</td>\n",
              "      <td>0.0</td>\n",
              "      <td>4.0</td>\n",
              "      <td>3.0</td>\n",
              "      <td>2.0</td>\n",
              "      <td>2.0</td>\n",
              "      <td>3.0</td>\n",
              "      <td>3.0</td>\n",
              "      <td>2.0</td>\n",
              "      <td>49.333333</td>\n",
              "      <td>87.666667</td>\n",
              "      <td>3</td>\n",
              "      <td>4</td>\n",
              "    </tr>\n",
              "    <tr>\n",
              "      <th>AnCnoc</th>\n",
              "      <td>1.0</td>\n",
              "      <td>3.0</td>\n",
              "      <td>2.0</td>\n",
              "      <td>0.0</td>\n",
              "      <td>0.0</td>\n",
              "      <td>2.0</td>\n",
              "      <td>0.0</td>\n",
              "      <td>0.0</td>\n",
              "      <td>2.0</td>\n",
              "      <td>2.0</td>\n",
              "      <td>3.0</td>\n",
              "      <td>2.0</td>\n",
              "      <td>45.000000</td>\n",
              "      <td>89.000000</td>\n",
              "      <td>2</td>\n",
              "      <td>5</td>\n",
              "    </tr>\n",
              "    <tr>\n",
              "      <th>Ardbeg</th>\n",
              "      <td>4.0</td>\n",
              "      <td>1.0</td>\n",
              "      <td>4.0</td>\n",
              "      <td>4.0</td>\n",
              "      <td>0.0</td>\n",
              "      <td>0.0</td>\n",
              "      <td>2.0</td>\n",
              "      <td>0.0</td>\n",
              "      <td>1.0</td>\n",
              "      <td>2.0</td>\n",
              "      <td>1.0</td>\n",
              "      <td>0.0</td>\n",
              "      <td>50.344828</td>\n",
              "      <td>89.833333</td>\n",
              "      <td>1</td>\n",
              "      <td>2</td>\n",
              "    </tr>\n",
              "    <tr>\n",
              "      <th>Ardmore</th>\n",
              "      <td>2.0</td>\n",
              "      <td>2.0</td>\n",
              "      <td>2.0</td>\n",
              "      <td>0.0</td>\n",
              "      <td>0.0</td>\n",
              "      <td>1.0</td>\n",
              "      <td>1.0</td>\n",
              "      <td>1.0</td>\n",
              "      <td>2.0</td>\n",
              "      <td>3.0</td>\n",
              "      <td>1.0</td>\n",
              "      <td>1.0</td>\n",
              "      <td>50.000000</td>\n",
              "      <td>86.571429</td>\n",
              "      <td>3</td>\n",
              "      <td>0</td>\n",
              "    </tr>\n",
              "    <tr>\n",
              "      <th>...</th>\n",
              "      <td>...</td>\n",
              "      <td>...</td>\n",
              "      <td>...</td>\n",
              "      <td>...</td>\n",
              "      <td>...</td>\n",
              "      <td>...</td>\n",
              "      <td>...</td>\n",
              "      <td>...</td>\n",
              "      <td>...</td>\n",
              "      <td>...</td>\n",
              "      <td>...</td>\n",
              "      <td>...</td>\n",
              "      <td>...</td>\n",
              "      <td>...</td>\n",
              "      <td>...</td>\n",
              "      <td>...</td>\n",
              "    </tr>\n",
              "    <tr>\n",
              "      <th>Tobermory</th>\n",
              "      <td>1.0</td>\n",
              "      <td>1.0</td>\n",
              "      <td>1.0</td>\n",
              "      <td>0.0</td>\n",
              "      <td>0.0</td>\n",
              "      <td>1.0</td>\n",
              "      <td>0.0</td>\n",
              "      <td>0.0</td>\n",
              "      <td>1.0</td>\n",
              "      <td>2.0</td>\n",
              "      <td>2.0</td>\n",
              "      <td>2.0</td>\n",
              "      <td>49.625000</td>\n",
              "      <td>85.625000</td>\n",
              "      <td>3</td>\n",
              "      <td>0</td>\n",
              "    </tr>\n",
              "    <tr>\n",
              "      <th>Tomatin</th>\n",
              "      <td>2.0</td>\n",
              "      <td>3.0</td>\n",
              "      <td>2.0</td>\n",
              "      <td>0.0</td>\n",
              "      <td>0.0</td>\n",
              "      <td>2.0</td>\n",
              "      <td>2.0</td>\n",
              "      <td>1.0</td>\n",
              "      <td>1.0</td>\n",
              "      <td>2.0</td>\n",
              "      <td>0.0</td>\n",
              "      <td>1.0</td>\n",
              "      <td>47.363636</td>\n",
              "      <td>85.454545</td>\n",
              "      <td>2</td>\n",
              "      <td>3</td>\n",
              "    </tr>\n",
              "    <tr>\n",
              "      <th>Tomintoul</th>\n",
              "      <td>0.0</td>\n",
              "      <td>3.0</td>\n",
              "      <td>1.0</td>\n",
              "      <td>0.0</td>\n",
              "      <td>0.0</td>\n",
              "      <td>2.0</td>\n",
              "      <td>2.0</td>\n",
              "      <td>1.0</td>\n",
              "      <td>1.0</td>\n",
              "      <td>2.0</td>\n",
              "      <td>1.0</td>\n",
              "      <td>2.0</td>\n",
              "      <td>43.692308</td>\n",
              "      <td>87.615385</td>\n",
              "      <td>2</td>\n",
              "      <td>5</td>\n",
              "    </tr>\n",
              "    <tr>\n",
              "      <th>Tormore</th>\n",
              "      <td>2.0</td>\n",
              "      <td>2.0</td>\n",
              "      <td>1.0</td>\n",
              "      <td>0.0</td>\n",
              "      <td>0.0</td>\n",
              "      <td>1.0</td>\n",
              "      <td>0.0</td>\n",
              "      <td>1.0</td>\n",
              "      <td>2.0</td>\n",
              "      <td>1.0</td>\n",
              "      <td>0.0</td>\n",
              "      <td>0.0</td>\n",
              "      <td>49.625000</td>\n",
              "      <td>84.125000</td>\n",
              "      <td>3</td>\n",
              "      <td>0</td>\n",
              "    </tr>\n",
              "    <tr>\n",
              "      <th>Tullibardine</th>\n",
              "      <td>2.0</td>\n",
              "      <td>3.0</td>\n",
              "      <td>0.0</td>\n",
              "      <td>0.0</td>\n",
              "      <td>1.0</td>\n",
              "      <td>0.0</td>\n",
              "      <td>2.0</td>\n",
              "      <td>1.0</td>\n",
              "      <td>1.0</td>\n",
              "      <td>2.0</td>\n",
              "      <td>2.0</td>\n",
              "      <td>1.0</td>\n",
              "      <td>45.000000</td>\n",
              "      <td>84.470588</td>\n",
              "      <td>0</td>\n",
              "      <td>3</td>\n",
              "    </tr>\n",
              "  </tbody>\n",
              "</table>\n",
              "<p>86 rows × 16 columns</p>\n",
              "</div>"
            ],
            "text/plain": [
              "              Body  Sweetness  Smoky  ...  review_point  cluster  cluster2\n",
              "Distillery                            ...                                 \n",
              "Aberfeldy      2.0        2.0    2.0  ...     86.692308        2         5\n",
              "Aberlour       3.0        3.0    1.0  ...     87.666667        3         4\n",
              "AnCnoc         1.0        3.0    2.0  ...     89.000000        2         5\n",
              "Ardbeg         4.0        1.0    4.0  ...     89.833333        1         2\n",
              "Ardmore        2.0        2.0    2.0  ...     86.571429        3         0\n",
              "...            ...        ...    ...  ...           ...      ...       ...\n",
              "Tobermory      1.0        1.0    1.0  ...     85.625000        3         0\n",
              "Tomatin        2.0        3.0    2.0  ...     85.454545        2         3\n",
              "Tomintoul      0.0        3.0    1.0  ...     87.615385        2         5\n",
              "Tormore        2.0        2.0    1.0  ...     84.125000        3         0\n",
              "Tullibardine   2.0        3.0    0.0  ...     84.470588        0         3\n",
              "\n",
              "[86 rows x 16 columns]"
            ]
          },
          "metadata": {}
        }
      ]
    },
    {
      "cell_type": "code",
      "source": [
        "import seaborn as sns\n",
        "import matplotlib.pyplot as plt\n",
        "sns.scatterplot(data = whiskey, x = whiskey['%alc'], y =whiskey['review_point'], hue = kmeans2.labels_)\n",
        "plt.show()"
      ],
      "metadata": {
        "colab": {
          "base_uri": "https://localhost:8080/",
          "height": 361
        },
        "id": "kBkHzRnA4T5w",
        "outputId": "cc1cf575-301c-4119-84b2-0dd459dd837c"
      },
      "execution_count": null,
      "outputs": [
        {
          "output_type": "display_data",
          "data": {
            "image/png": "[encoded data removed]",
            "text/plain": [
              "<Figure size 576x396 with 1 Axes>"
            ]
          },
          "metadata": {}
        }
      ]
    },
    {
      "cell_type": "code",
      "source": [
        "import seaborn as sns\n",
        "import matplotlib.pyplot as plt\n",
        "sns.scatterplot(data = whiskey, x = whiskey['%alc'], y =whiskey['cluster2'])\n",
        "plt.show()"
      ],
      "metadata": {
        "colab": {
          "base_uri": "https://localhost:8080/",
          "height": 361
        },
        "id": "Un7dG1Sy4hxA",
        "outputId": "3d20f4bb-3346-4897-9b60-de81b74e2d51"
      },
      "execution_count": null,
      "outputs": [
        {
          "output_type": "display_data",
          "data": {
            "image/png": "[encoded data removed]",
            "text/plain": [
              "<Figure size 576x396 with 1 Axes>"
            ]
          },
          "metadata": {}
        }
      ]
    },
    {
      "cell_type": "code",
      "source": [
        "import seaborn as sns\n",
        "import matplotlib.pyplot as plt\n",
        "sns.scatterplot(data = whiskey, x = whiskey['review_point'], y =whiskey['cluster2'])\n",
        "plt.show()"
      ],
      "metadata": {
        "colab": {
          "base_uri": "https://localhost:8080/",
          "height": 361
        },
        "id": "CIBA0sfO4rIU",
        "outputId": "217535c4-70d2-46da-8f79-79f4deb25718"
      },
      "execution_count": null,
      "outputs": [
        {
          "output_type": "display_data",
          "data": {
            "image/png": "[encoded data removed]",
            "text/plain": [
              "<Figure size 576x396 with 1 Axes>"
            ]
          },
          "metadata": {}
        }
      ]
    },
    {
      "cell_type": "code",
      "source": [
        ""
      ],
      "metadata": {
        "id": "MuFDeI5k5DsS"
      },
      "execution_count": null,
      "outputs": []
    },
    {
      "cell_type": "code",
      "source": [
        "KMeans for larger data set"
      ],
      "metadata": {
        "id": "9MytGFYD42Zy"
      },
      "execution_count": null,
      "outputs": []
    },
    {
      "cell_type": "code",
      "metadata": {
        "id": "RMlno64gGgsd"
      },
      "source": [
        "#reading in full dataset\n",
        "whiskey_qual = pd.read_csv('https://raw.githubusercontent.com/schulzmf/IST718/main/projectwhisky_qual_clean.csv')"
      ],
      "execution_count": null,
      "outputs": []
    },
    {
      "cell_type": "code",
      "metadata": {
        "colab": {
          "base_uri": "https://localhost:8080/",
          "height": 397
        },
        "id": "gwyv7DRaKlEQ",
        "outputId": "5c9e4fd1-9a4c-402b-cfae-cba41e61c2d5"
      },
      "source": [
        "#looking at the head of the data\n",
        "whiskey_qual.head()"
      ],
      "execution_count": null,
      "outputs": [
        {
          "output_type": "execute_result",
          "data": {
            "text/html": [
              "<div>\n",
              "<style scoped>\n",
              "    .dataframe tbody tr th:only-of-type {\n",
              "        vertical-align: middle;\n",
              "    }\n",
              "\n",
              "    .dataframe tbody tr th {\n",
              "        vertical-align: top;\n",
              "    }\n",
              "\n",
              "    .dataframe thead th {\n",
              "        text-align: right;\n",
              "    }\n",
              "</style>\n",
              "<table border=\"1\" class=\"dataframe\">\n",
              "  <thead>\n",
              "    <tr style=\"text-align: right;\">\n",
              "      <th></th>\n",
              "      <th>Unnamed: 0</th>\n",
              "      <th>DistCode</th>\n",
              "      <th>Distillery</th>\n",
              "      <th>Body</th>\n",
              "      <th>Sweetness</th>\n",
              "      <th>Smoky</th>\n",
              "      <th>Medicinal</th>\n",
              "      <th>Tobacco</th>\n",
              "      <th>Honey</th>\n",
              "      <th>Spicy</th>\n",
              "      <th>Winey</th>\n",
              "      <th>Nutty</th>\n",
              "      <th>Malty</th>\n",
              "      <th>Fruity</th>\n",
              "      <th>Floral</th>\n",
              "      <th>Postcode</th>\n",
              "      <th>Latitude</th>\n",
              "      <th>Longitude</th>\n",
              "      <th>%alc</th>\n",
              "      <th>category</th>\n",
              "      <th>review_point</th>\n",
              "      <th>price</th>\n",
              "      <th>description</th>\n",
              "      <th>name</th>\n",
              "    </tr>\n",
              "  </thead>\n",
              "  <tbody>\n",
              "    <tr>\n",
              "      <th>0</th>\n",
              "      <td>0</td>\n",
              "      <td>0</td>\n",
              "      <td>Aberfeldy</td>\n",
              "      <td>2</td>\n",
              "      <td>2</td>\n",
              "      <td>2</td>\n",
              "      <td>0</td>\n",
              "      <td>0</td>\n",
              "      <td>2</td>\n",
              "      <td>1</td>\n",
              "      <td>2</td>\n",
              "      <td>2</td>\n",
              "      <td>2</td>\n",
              "      <td>2</td>\n",
              "      <td>2</td>\n",
              "      <td>\\tPH15 2EB</td>\n",
              "      <td>286580</td>\n",
              "      <td>749680</td>\n",
              "      <td>58.0</td>\n",
              "      <td>Single Malt Scotch</td>\n",
              "      <td>94</td>\n",
              "      <td>181.0</td>\n",
              "      <td>Single cask Aberfeldy bottlings are very few a...</td>\n",
              "      <td>Aberfeldy 14 year old Single Cask, 58.1%</td>\n",
              "    </tr>\n",
              "    <tr>\n",
              "      <th>1</th>\n",
              "      <td>1</td>\n",
              "      <td>0</td>\n",
              "      <td>Aberfeldy</td>\n",
              "      <td>2</td>\n",
              "      <td>2</td>\n",
              "      <td>2</td>\n",
              "      <td>0</td>\n",
              "      <td>0</td>\n",
              "      <td>2</td>\n",
              "      <td>1</td>\n",
              "      <td>2</td>\n",
              "      <td>2</td>\n",
              "      <td>2</td>\n",
              "      <td>2</td>\n",
              "      <td>2</td>\n",
              "      <td>\\tPH15 2EB</td>\n",
              "      <td>286580</td>\n",
              "      <td>749680</td>\n",
              "      <td>57.0</td>\n",
              "      <td>Single Malt Scotch</td>\n",
              "      <td>92</td>\n",
              "      <td>250.0</td>\n",
              "      <td>From a sherry cask. Bright and lively. Quite f...</td>\n",
              "      <td>Aberfeldy Single Cask (Cask No. 5) 16 year old...</td>\n",
              "    </tr>\n",
              "    <tr>\n",
              "      <th>2</th>\n",
              "      <td>2</td>\n",
              "      <td>0</td>\n",
              "      <td>Aberfeldy</td>\n",
              "      <td>2</td>\n",
              "      <td>2</td>\n",
              "      <td>2</td>\n",
              "      <td>0</td>\n",
              "      <td>0</td>\n",
              "      <td>2</td>\n",
              "      <td>1</td>\n",
              "      <td>2</td>\n",
              "      <td>2</td>\n",
              "      <td>2</td>\n",
              "      <td>2</td>\n",
              "      <td>2</td>\n",
              "      <td>\\tPH15 2EB</td>\n",
              "      <td>286580</td>\n",
              "      <td>749680</td>\n",
              "      <td>40.0</td>\n",
              "      <td>Single Malt Scotch</td>\n",
              "      <td>88</td>\n",
              "      <td>170.0</td>\n",
              "      <td>Similar in flavor to the Aberfeldy 12 reviewed...</td>\n",
              "      <td>Aberfeldy, 21 year old, 40%</td>\n",
              "    </tr>\n",
              "    <tr>\n",
              "      <th>3</th>\n",
              "      <td>3</td>\n",
              "      <td>0</td>\n",
              "      <td>Aberfeldy</td>\n",
              "      <td>2</td>\n",
              "      <td>2</td>\n",
              "      <td>2</td>\n",
              "      <td>0</td>\n",
              "      <td>0</td>\n",
              "      <td>2</td>\n",
              "      <td>1</td>\n",
              "      <td>2</td>\n",
              "      <td>2</td>\n",
              "      <td>2</td>\n",
              "      <td>2</td>\n",
              "      <td>2</td>\n",
              "      <td>\\tPH15 2EB</td>\n",
              "      <td>286580</td>\n",
              "      <td>749680</td>\n",
              "      <td>40.0</td>\n",
              "      <td>Single Malt Scotch</td>\n",
              "      <td>87</td>\n",
              "      <td>110.0</td>\n",
              "      <td>A prime component in Dewar’s blended scotch. T...</td>\n",
              "      <td>Cask &amp; Thistle (distilled at Aberfeldy), 29 ye...</td>\n",
              "    </tr>\n",
              "    <tr>\n",
              "      <th>4</th>\n",
              "      <td>4</td>\n",
              "      <td>0</td>\n",
              "      <td>Aberfeldy</td>\n",
              "      <td>2</td>\n",
              "      <td>2</td>\n",
              "      <td>2</td>\n",
              "      <td>0</td>\n",
              "      <td>0</td>\n",
              "      <td>2</td>\n",
              "      <td>1</td>\n",
              "      <td>2</td>\n",
              "      <td>2</td>\n",
              "      <td>2</td>\n",
              "      <td>2</td>\n",
              "      <td>2</td>\n",
              "      <td>\\tPH15 2EB</td>\n",
              "      <td>286580</td>\n",
              "      <td>749680</td>\n",
              "      <td>47.0</td>\n",
              "      <td>Single Malt Scotch</td>\n",
              "      <td>87</td>\n",
              "      <td>105.0</td>\n",
              "      <td>Independent releases of the Perthshire single ...</td>\n",
              "      <td>That Boutique-y Whisky Company (distilled at A...</td>\n",
              "    </tr>\n",
              "  </tbody>\n",
              "</table>\n",
              "</div>"
            ],
            "text/plain": [
              "   Unnamed: 0  ...                                               name\n",
              "0           0  ...           Aberfeldy 14 year old Single Cask, 58.1%\n",
              "1           1  ...  Aberfeldy Single Cask (Cask No. 5) 16 year old...\n",
              "2           2  ...                        Aberfeldy, 21 year old, 40%\n",
              "3           3  ...  Cask & Thistle (distilled at Aberfeldy), 29 ye...\n",
              "4           4  ...  That Boutique-y Whisky Company (distilled at A...\n",
              "\n",
              "[5 rows x 24 columns]"
            ]
          },
          "metadata": {},
          "execution_count": 163
        }
      ]
    },
    {
      "cell_type": "code",
      "metadata": {
        "id": "X12EKTg4KmnQ"
      },
      "source": [
        "#making dataframe smaller to include only necessary data\n",
        "whiskey2 = whiskey_qual[['Distillery','Body','Sweetness','Smoky','Medicinal','Tobacco','Honey','Spicy','Winey','Nutty','Malty','Fruity','Floral','%alc','review_point']]"
      ],
      "execution_count": null,
      "outputs": []
    },
    {
      "cell_type": "code",
      "metadata": {
        "id": "hum310oWXZia"
      },
      "source": [
        "#setting index to distillery\n",
        "whiskey2 = whiskey2.set_index('Distillery')"
      ],
      "execution_count": null,
      "outputs": []
    },
    {
      "cell_type": "code",
      "metadata": {
        "colab": {
          "base_uri": "https://localhost:8080/",
          "height": 238
        },
        "id": "pdrBjzLPXrpW",
        "outputId": "83398e25-9dae-46a9-f216-d7c29a1f802c"
      },
      "source": [
        "whiskey2.head()"
      ],
      "execution_count": null,
      "outputs": [
        {
          "output_type": "execute_result",
          "data": {
            "text/html": [
              "<div>\n",
              "<style scoped>\n",
              "    .dataframe tbody tr th:only-of-type {\n",
              "        vertical-align: middle;\n",
              "    }\n",
              "\n",
              "    .dataframe tbody tr th {\n",
              "        vertical-align: top;\n",
              "    }\n",
              "\n",
              "    .dataframe thead th {\n",
              "        text-align: right;\n",
              "    }\n",
              "</style>\n",
              "<table border=\"1\" class=\"dataframe\">\n",
              "  <thead>\n",
              "    <tr style=\"text-align: right;\">\n",
              "      <th></th>\n",
              "      <th>Body</th>\n",
              "      <th>Sweetness</th>\n",
              "      <th>Smoky</th>\n",
              "      <th>Medicinal</th>\n",
              "      <th>Tobacco</th>\n",
              "      <th>Honey</th>\n",
              "      <th>Spicy</th>\n",
              "      <th>Winey</th>\n",
              "      <th>Nutty</th>\n",
              "      <th>Malty</th>\n",
              "      <th>Fruity</th>\n",
              "      <th>Floral</th>\n",
              "      <th>%alc</th>\n",
              "      <th>review_point</th>\n",
              "    </tr>\n",
              "    <tr>\n",
              "      <th>Distillery</th>\n",
              "      <th></th>\n",
              "      <th></th>\n",
              "      <th></th>\n",
              "      <th></th>\n",
              "      <th></th>\n",
              "      <th></th>\n",
              "      <th></th>\n",
              "      <th></th>\n",
              "      <th></th>\n",
              "      <th></th>\n",
              "      <th></th>\n",
              "      <th></th>\n",
              "      <th></th>\n",
              "      <th></th>\n",
              "    </tr>\n",
              "  </thead>\n",
              "  <tbody>\n",
              "    <tr>\n",
              "      <th>Aberfeldy</th>\n",
              "      <td>2</td>\n",
              "      <td>2</td>\n",
              "      <td>2</td>\n",
              "      <td>0</td>\n",
              "      <td>0</td>\n",
              "      <td>2</td>\n",
              "      <td>1</td>\n",
              "      <td>2</td>\n",
              "      <td>2</td>\n",
              "      <td>2</td>\n",
              "      <td>2</td>\n",
              "      <td>2</td>\n",
              "      <td>58.0</td>\n",
              "      <td>94</td>\n",
              "    </tr>\n",
              "    <tr>\n",
              "      <th>Aberfeldy</th>\n",
              "      <td>2</td>\n",
              "      <td>2</td>\n",
              "      <td>2</td>\n",
              "      <td>0</td>\n",
              "      <td>0</td>\n",
              "      <td>2</td>\n",
              "      <td>1</td>\n",
              "      <td>2</td>\n",
              "      <td>2</td>\n",
              "      <td>2</td>\n",
              "      <td>2</td>\n",
              "      <td>2</td>\n",
              "      <td>57.0</td>\n",
              "      <td>92</td>\n",
              "    </tr>\n",
              "    <tr>\n",
              "      <th>Aberfeldy</th>\n",
              "      <td>2</td>\n",
              "      <td>2</td>\n",
              "      <td>2</td>\n",
              "      <td>0</td>\n",
              "      <td>0</td>\n",
              "      <td>2</td>\n",
              "      <td>1</td>\n",
              "      <td>2</td>\n",
              "      <td>2</td>\n",
              "      <td>2</td>\n",
              "      <td>2</td>\n",
              "      <td>2</td>\n",
              "      <td>40.0</td>\n",
              "      <td>88</td>\n",
              "    </tr>\n",
              "    <tr>\n",
              "      <th>Aberfeldy</th>\n",
              "      <td>2</td>\n",
              "      <td>2</td>\n",
              "      <td>2</td>\n",
              "      <td>0</td>\n",
              "      <td>0</td>\n",
              "      <td>2</td>\n",
              "      <td>1</td>\n",
              "      <td>2</td>\n",
              "      <td>2</td>\n",
              "      <td>2</td>\n",
              "      <td>2</td>\n",
              "      <td>2</td>\n",
              "      <td>40.0</td>\n",
              "      <td>87</td>\n",
              "    </tr>\n",
              "    <tr>\n",
              "      <th>Aberfeldy</th>\n",
              "      <td>2</td>\n",
              "      <td>2</td>\n",
              "      <td>2</td>\n",
              "      <td>0</td>\n",
              "      <td>0</td>\n",
              "      <td>2</td>\n",
              "      <td>1</td>\n",
              "      <td>2</td>\n",
              "      <td>2</td>\n",
              "      <td>2</td>\n",
              "      <td>2</td>\n",
              "      <td>2</td>\n",
              "      <td>47.0</td>\n",
              "      <td>87</td>\n",
              "    </tr>\n",
              "  </tbody>\n",
              "</table>\n",
              "</div>"
            ],
            "text/plain": [
              "            Body  Sweetness  Smoky  ...  Floral  %alc  review_point\n",
              "Distillery                          ...                            \n",
              "Aberfeldy      2          2      2  ...       2  58.0            94\n",
              "Aberfeldy      2          2      2  ...       2  57.0            92\n",
              "Aberfeldy      2          2      2  ...       2  40.0            88\n",
              "Aberfeldy      2          2      2  ...       2  40.0            87\n",
              "Aberfeldy      2          2      2  ...       2  47.0            87\n",
              "\n",
              "[5 rows x 14 columns]"
            ]
          },
          "metadata": {},
          "execution_count": 215
        }
      ]
    },
    {
      "cell_type": "code",
      "metadata": {
        "colab": {
          "base_uri": "https://localhost:8080/"
        },
        "id": "h49tpo3CYMeX",
        "outputId": "6fde0d34-88b3-413e-868e-a0b1fca8d687"
      },
      "source": [
        "#dropping null values \n",
        "print(whiskey2.dropna())"
      ],
      "execution_count": null,
      "outputs": [
        {
          "output_type": "stream",
          "name": "stdout",
          "text": [
            "              Body  Sweetness  Smoky  ...  Floral  %alc  review_point\n",
            "Distillery                            ...                            \n",
            "Aberfeldy        2          2      2  ...       2  58.0            94\n",
            "Aberfeldy        2          2      2  ...       2  57.0            92\n",
            "Aberfeldy        2          2      2  ...       2  40.0            88\n",
            "Aberfeldy        2          2      2  ...       2  40.0            87\n",
            "Aberfeldy        2          2      2  ...       2  47.0            87\n",
            "...            ...        ...    ...  ...     ...   ...           ...\n",
            "Tullibardine     2          3      0  ...       1  55.0            83\n",
            "Tullibardine     2          3      0  ...       1  43.0            83\n",
            "Tullibardine     2          3      0  ...       1  43.0            83\n",
            "Tullibardine     2          3      0  ...       1  46.0            82\n",
            "Tullibardine     2          3      0  ...       1  43.0            82\n",
            "\n",
            "[1506 rows x 14 columns]\n"
          ]
        }
      ]
    },
    {
      "cell_type": "code",
      "metadata": {
        "colab": {
          "base_uri": "https://localhost:8080/"
        },
        "id": "--1ir63JZxpa",
        "outputId": "76c29809-5d81-4b29-b391-9adfce743e38"
      },
      "source": [
        "#looking at amount of nulls in the data\n",
        "whiskey2 = whiskey2.dropna()\n",
        "whiskey2.isnull().sum()"
      ],
      "execution_count": null,
      "outputs": [
        {
          "output_type": "execute_result",
          "data": {
            "text/plain": [
              "Body            0\n",
              "Sweetness       0\n",
              "Smoky           0\n",
              "Medicinal       0\n",
              "Tobacco         0\n",
              "Honey           0\n",
              "Spicy           0\n",
              "Winey           0\n",
              "Nutty           0\n",
              "Malty           0\n",
              "Fruity          0\n",
              "Floral          0\n",
              "%alc            0\n",
              "review_point    0\n",
              "dtype: int64"
            ]
          },
          "metadata": {},
          "execution_count": 217
        }
      ]
    },
    {
      "cell_type": "code",
      "metadata": {
        "id": "UNv56bOhXtUC"
      },
      "source": [
        "#creating kmeans model for second data set\n",
        "model2 = KMeans()"
      ],
      "execution_count": null,
      "outputs": []
    },
    {
      "cell_type": "code",
      "metadata": {
        "colab": {
          "base_uri": "https://localhost:8080/",
          "height": 393
        },
        "id": "hsMYcVmhYCPx",
        "outputId": "d8fa9aca-b984-4819-a940-dcc9a16931ce"
      },
      "source": [
        "#finding ideal number of clusters = 3\n",
        "visualizer2 = KElbowVisualizer(model, k=(1,12)).fit(whiskey2)\n",
        "visualizer2.show()"
      ],
      "execution_count": null,
      "outputs": [
        {
          "output_type": "display_data",
          "data": {
            "image/png": "[encoded data removed]",
            "text/plain": [
              "<Figure size 576x396 with 2 Axes>"
            ]
          },
          "metadata": {}
        },
        {
          "output_type": "execute_result",
          "data": {
            "text/plain": [
              "<matplotlib.axes._subplots.AxesSubplot at 0x7fbc40e69fd0>"
            ]
          },
          "metadata": {},
          "execution_count": 219
        }
      ]
    },
    {
      "cell_type": "code",
      "metadata": {
        "id": "yiu0bpsXYJVo"
      },
      "source": [
        "kmeans2 = KMeans(n_clusters = 3,init = 'k-means++',random_state = 0).fit(whiskey2)"
      ],
      "execution_count": null,
      "outputs": []
    },
    {
      "cell_type": "code",
      "metadata": {
        "colab": {
          "base_uri": "https://localhost:8080/"
        },
        "id": "ySZCdx0haPDQ",
        "outputId": "96e9e3e4-38fe-42f2-bfe5-a585d4d1b759"
      },
      "source": [
        "y_predicted2 = kmeans.fit_predict(whiskey2)\n",
        "y_predicted2"
      ],
      "execution_count": null,
      "outputs": [
        {
          "output_type": "execute_result",
          "data": {
            "text/plain": [
              "array([0, 0, 3, ..., 1, 1, 1], dtype=int32)"
            ]
          },
          "metadata": {},
          "execution_count": 221
        }
      ]
    },
    {
      "cell_type": "code",
      "metadata": {
        "colab": {
          "base_uri": "https://localhost:8080/",
          "height": 238
        },
        "id": "YN-oBneaahob",
        "outputId": "ea95836c-dbd0-4bad-9e98-af6b1ba40c86"
      },
      "source": [
        "whiskey2['cluster'] = y_predicted2\n",
        "whiskey2.head()"
      ],
      "execution_count": null,
      "outputs": [
        {
          "output_type": "execute_result",
          "data": {
            "text/html": [
              "<div>\n",
              "<style scoped>\n",
              "    .dataframe tbody tr th:only-of-type {\n",
              "        vertical-align: middle;\n",
              "    }\n",
              "\n",
              "    .dataframe tbody tr th {\n",
              "        vertical-align: top;\n",
              "    }\n",
              "\n",
              "    .dataframe thead th {\n",
              "        text-align: right;\n",
              "    }\n",
              "</style>\n",
              "<table border=\"1\" class=\"dataframe\">\n",
              "  <thead>\n",
              "    <tr style=\"text-align: right;\">\n",
              "      <th></th>\n",
              "      <th>Body</th>\n",
              "      <th>Sweetness</th>\n",
              "      <th>Smoky</th>\n",
              "      <th>Medicinal</th>\n",
              "      <th>Tobacco</th>\n",
              "      <th>Honey</th>\n",
              "      <th>Spicy</th>\n",
              "      <th>Winey</th>\n",
              "      <th>Nutty</th>\n",
              "      <th>Malty</th>\n",
              "      <th>Fruity</th>\n",
              "      <th>Floral</th>\n",
              "      <th>%alc</th>\n",
              "      <th>review_point</th>\n",
              "      <th>cluster</th>\n",
              "    </tr>\n",
              "    <tr>\n",
              "      <th>Distillery</th>\n",
              "      <th></th>\n",
              "      <th></th>\n",
              "      <th></th>\n",
              "      <th></th>\n",
              "      <th></th>\n",
              "      <th></th>\n",
              "      <th></th>\n",
              "      <th></th>\n",
              "      <th></th>\n",
              "      <th></th>\n",
              "      <th></th>\n",
              "      <th></th>\n",
              "      <th></th>\n",
              "      <th></th>\n",
              "      <th></th>\n",
              "    </tr>\n",
              "  </thead>\n",
              "  <tbody>\n",
              "    <tr>\n",
              "      <th>Aberfeldy</th>\n",
              "      <td>2</td>\n",
              "      <td>2</td>\n",
              "      <td>2</td>\n",
              "      <td>0</td>\n",
              "      <td>0</td>\n",
              "      <td>2</td>\n",
              "      <td>1</td>\n",
              "      <td>2</td>\n",
              "      <td>2</td>\n",
              "      <td>2</td>\n",
              "      <td>2</td>\n",
              "      <td>2</td>\n",
              "      <td>58.0</td>\n",
              "      <td>94</td>\n",
              "      <td>0</td>\n",
              "    </tr>\n",
              "    <tr>\n",
              "      <th>Aberfeldy</th>\n",
              "      <td>2</td>\n",
              "      <td>2</td>\n",
              "      <td>2</td>\n",
              "      <td>0</td>\n",
              "      <td>0</td>\n",
              "      <td>2</td>\n",
              "      <td>1</td>\n",
              "      <td>2</td>\n",
              "      <td>2</td>\n",
              "      <td>2</td>\n",
              "      <td>2</td>\n",
              "      <td>2</td>\n",
              "      <td>57.0</td>\n",
              "      <td>92</td>\n",
              "      <td>0</td>\n",
              "    </tr>\n",
              "    <tr>\n",
              "      <th>Aberfeldy</th>\n",
              "      <td>2</td>\n",
              "      <td>2</td>\n",
              "      <td>2</td>\n",
              "      <td>0</td>\n",
              "      <td>0</td>\n",
              "      <td>2</td>\n",
              "      <td>1</td>\n",
              "      <td>2</td>\n",
              "      <td>2</td>\n",
              "      <td>2</td>\n",
              "      <td>2</td>\n",
              "      <td>2</td>\n",
              "      <td>40.0</td>\n",
              "      <td>88</td>\n",
              "      <td>3</td>\n",
              "    </tr>\n",
              "    <tr>\n",
              "      <th>Aberfeldy</th>\n",
              "      <td>2</td>\n",
              "      <td>2</td>\n",
              "      <td>2</td>\n",
              "      <td>0</td>\n",
              "      <td>0</td>\n",
              "      <td>2</td>\n",
              "      <td>1</td>\n",
              "      <td>2</td>\n",
              "      <td>2</td>\n",
              "      <td>2</td>\n",
              "      <td>2</td>\n",
              "      <td>2</td>\n",
              "      <td>40.0</td>\n",
              "      <td>87</td>\n",
              "      <td>3</td>\n",
              "    </tr>\n",
              "    <tr>\n",
              "      <th>Aberfeldy</th>\n",
              "      <td>2</td>\n",
              "      <td>2</td>\n",
              "      <td>2</td>\n",
              "      <td>0</td>\n",
              "      <td>0</td>\n",
              "      <td>2</td>\n",
              "      <td>1</td>\n",
              "      <td>2</td>\n",
              "      <td>2</td>\n",
              "      <td>2</td>\n",
              "      <td>2</td>\n",
              "      <td>2</td>\n",
              "      <td>47.0</td>\n",
              "      <td>87</td>\n",
              "      <td>3</td>\n",
              "    </tr>\n",
              "  </tbody>\n",
              "</table>\n",
              "</div>"
            ],
            "text/plain": [
              "            Body  Sweetness  Smoky  ...  %alc  review_point  cluster\n",
              "Distillery                          ...                             \n",
              "Aberfeldy      2          2      2  ...  58.0            94        0\n",
              "Aberfeldy      2          2      2  ...  57.0            92        0\n",
              "Aberfeldy      2          2      2  ...  40.0            88        3\n",
              "Aberfeldy      2          2      2  ...  40.0            87        3\n",
              "Aberfeldy      2          2      2  ...  47.0            87        3\n",
              "\n",
              "[5 rows x 15 columns]"
            ]
          },
          "metadata": {},
          "execution_count": 222
        }
      ]
    },
    {
      "cell_type": "code",
      "metadata": {
        "colab": {
          "base_uri": "https://localhost:8080/"
        },
        "id": "m_p2OvO5ak2t",
        "outputId": "179f2336-860c-492f-8a06-e916fc987800"
      },
      "source": [
        "kmeans2.labels_"
      ],
      "execution_count": null,
      "outputs": [
        {
          "output_type": "execute_result",
          "data": {
            "text/plain": [
              "array([2, 2, 0, ..., 1, 1, 1], dtype=int32)"
            ]
          },
          "metadata": {},
          "execution_count": 223
        }
      ]
    },
    {
      "cell_type": "code",
      "metadata": {
        "colab": {
          "base_uri": "https://localhost:8080/"
        },
        "id": "TXC0bK3-anlx",
        "outputId": "6f471d85-1d89-49f4-831b-324d72b3a79d"
      },
      "source": [
        "kmeans2.inertia_"
      ],
      "execution_count": null,
      "outputs": [
        {
          "output_type": "execute_result",
          "data": {
            "text/plain": [
              "39728.35476092383"
            ]
          },
          "metadata": {},
          "execution_count": 224
        }
      ]
    },
    {
      "cell_type": "code",
      "metadata": {
        "colab": {
          "base_uri": "https://localhost:8080/"
        },
        "id": "K2HU-CduaqXf",
        "outputId": "0e35b1b9-d7c9-4e0a-9c98-942a52573a37"
      },
      "source": [
        "kmeans2.n_iter_"
      ],
      "execution_count": null,
      "outputs": [
        {
          "output_type": "execute_result",
          "data": {
            "text/plain": [
              "25"
            ]
          },
          "metadata": {},
          "execution_count": 225
        }
      ]
    },
    {
      "cell_type": "code",
      "metadata": {
        "colab": {
          "base_uri": "https://localhost:8080/"
        },
        "id": "W5EV321jatz_",
        "outputId": "38623f35-50a1-4151-9a9e-390f10d9091d"
      },
      "source": [
        "kmeans2.cluster_centers_"
      ],
      "execution_count": null,
      "outputs": [
        {
          "output_type": "execute_result",
          "data": {
            "text/plain": [
              "array([[ 2.30975143,  2.22179732,  1.74952199,  0.87380497,  0.10133843,\n",
              "         1.36520076,  1.53728489,  1.24856597,  1.38814532,  1.79923518,\n",
              "         1.81070746,  1.51051625, 45.58508604, 90.02676864],\n",
              "       [ 2.03100775,  2.24224806,  1.50775194,  0.6375969 ,  0.13565891,\n",
              "         1.25968992,  1.42248062,  1.01550388,  1.4496124 ,  1.84496124,\n",
              "         1.85077519,  1.64534884, 44.04651163, 83.55426357],\n",
              "       [ 2.28051392,  2.07494647,  1.95503212,  1.03426124,  0.16059957,\n",
              "         1.31905782,  1.45824411,  1.16702355,  1.43683084,  1.70235546,\n",
              "         1.64453961,  1.52034261, 55.33618844, 86.44325482]])"
            ]
          },
          "metadata": {},
          "execution_count": 226
        }
      ]
    },
    {
      "cell_type": "code",
      "metadata": {
        "colab": {
          "base_uri": "https://localhost:8080/"
        },
        "id": "39zzIIMJawjD",
        "outputId": "c67ed4b4-d7b4-417c-aa35-ab223ecf0884"
      },
      "source": [
        "from collections import Counter\n",
        "Counter(kmeans2.labels_)"
      ],
      "execution_count": null,
      "outputs": [
        {
          "output_type": "execute_result",
          "data": {
            "text/plain": [
              "Counter({0: 523, 1: 516, 2: 467})"
            ]
          },
          "metadata": {},
          "execution_count": 227
        }
      ]
    },
    {
      "cell_type": "code",
      "metadata": {
        "colab": {
          "base_uri": "https://localhost:8080/",
          "height": 361
        },
        "id": "_Wzb6gyxazh_",
        "outputId": "91d3dab7-f153-4759-f8d1-3ae56d60d20c"
      },
      "source": [
        "import seaborn as sns\n",
        "import matplotlib.pyplot as plt\n",
        "sns.scatterplot(data = whiskey2, x = whiskey2['%alc'], y =whiskey2['review_point'], hue = kmeans2.labels_)\n",
        "plt.show()"
      ],
      "execution_count": null,
      "outputs": [
        {
          "output_type": "display_data",
          "data": {
            "image/png": "[encoded data removed]",
            "text/plain": [
              "<Figure size 576x396 with 1 Axes>"
            ]
          },
          "metadata": {}
        }
      ]
    },
    {
      "cell_type": "code",
      "metadata": {
        "colab": {
          "base_uri": "https://localhost:8080/",
          "height": 361
        },
        "id": "_I86eB63a7eN",
        "outputId": "d33abd6b-e8ac-4f4d-86e1-4c4b52eb9567"
      },
      "source": [
        "sns.scatterplot(data = whiskey2, x = whiskey2['Nutty'], y =whiskey2['Smoky'], hue = kmeans2.labels_)\n",
        "plt.scatter(kmeans2.cluster_centers_[:,0], kmeans2.cluster_centers_[:,1], \n",
        "            marker=\"X\", c=\"r\", s=80, label=\"centroids\")\n",
        "plt.legend()\n",
        "plt.show()"
      ],
      "execution_count": null,
      "outputs": [
        {
          "output_type": "display_data",
          "data": {
            "image/png": "[encoded data removed]",
            "text/plain": [
              "<Figure size 576x396 with 1 Axes>"
            ]
          },
          "metadata": {}
        }
      ]
    },
    {
      "cell_type": "code",
      "metadata": {
        "id": "mTVlsH9cb34-"
      },
      "source": [
        ""
      ],
      "execution_count": null,
      "outputs": []
    }
  ]
}