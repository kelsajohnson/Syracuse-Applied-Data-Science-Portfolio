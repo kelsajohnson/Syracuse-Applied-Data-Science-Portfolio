{
  "nbformat": 4,
  "nbformat_minor": 0,
  "metadata": {
    "colab": {
      "name": "IST 718 Final Project Linear Regression.ipynb",
      "provenance": []
    },
    "kernelspec": {
      "name": "python3",
      "display_name": "Python 3"
    },
    "language_info": {
      "name": "python"
    }
  },
  "cells": [
    {
      "cell_type": "code",
      "metadata": {
        "id": "EFOZxbqUA0Td"
      },
      "source": [
        "import pandas as pd\n",
        "import numpy as np \n",
        "from scipy.stats import uniform \n",
        "import statsmodels.api as sm \n",
        "import statsmodels.formula.api as smf \n",
        "import matplotlib.pyplot as plt \n",
        "from matplotlib import pyplot as plt\n",
        "import seaborn as sns\n",
        "import requests\n",
        "import bs4\n",
        "from bs4 import BeautifulSoup\n",
        "import urllib.request\n",
        "from IPython.display import HTML\n",
        "from sklearn.linear_model import LinearRegression"
      ],
      "execution_count": null,
      "outputs": []
    },
    {
      "cell_type": "code",
      "metadata": {
        "id": "V0Z7it4oAMLH"
      },
      "source": [
        "## Import the precleaned data that Sam finshed. Thanks Sam! \n",
        "\n",
        "project_whiskey_qual = pd.read_csv('https://raw.githubusercontent.com/schulzmf/IST718/main/projectwhisky_qual_clean.csv')\n",
        "project_whiskey_quant = pd.read_csv('https://raw.githubusercontent.com/schulzmf/IST718/main/projectwhisky_quant_clean.csv')"
      ],
      "execution_count": null,
      "outputs": []
    },
    {
      "cell_type": "code",
      "metadata": {
        "colab": {
          "base_uri": "https://localhost:8080/",
          "height": 206
        },
        "id": "eO76sVntDC9O",
        "outputId": "ef0499e9-519d-4470-ad9d-101eb8ee2d59"
      },
      "source": [
        "project_whiskey_quant.head()"
      ],
      "execution_count": null,
      "outputs": [
        {
          "output_type": "execute_result",
          "data": {
            "text/html": [
              "<div>\n",
              "<style scoped>\n",
              "    .dataframe tbody tr th:only-of-type {\n",
              "        vertical-align: middle;\n",
              "    }\n",
              "\n",
              "    .dataframe tbody tr th {\n",
              "        vertical-align: top;\n",
              "    }\n",
              "\n",
              "    .dataframe thead th {\n",
              "        text-align: right;\n",
              "    }\n",
              "</style>\n",
              "<table border=\"1\" class=\"dataframe\">\n",
              "  <thead>\n",
              "    <tr style=\"text-align: right;\">\n",
              "      <th></th>\n",
              "      <th>Unnamed: 0</th>\n",
              "      <th>Distillery</th>\n",
              "      <th>DistCode</th>\n",
              "      <th>Body</th>\n",
              "      <th>Sweetness</th>\n",
              "      <th>Smoky</th>\n",
              "      <th>Medicinal</th>\n",
              "      <th>Tobacco</th>\n",
              "      <th>Honey</th>\n",
              "      <th>Spicy</th>\n",
              "      <th>Winey</th>\n",
              "      <th>Nutty</th>\n",
              "      <th>Malty</th>\n",
              "      <th>Fruity</th>\n",
              "      <th>Floral</th>\n",
              "      <th>Latitude</th>\n",
              "      <th>Longitude</th>\n",
              "      <th>%alc</th>\n",
              "      <th>review_point</th>\n",
              "      <th>price</th>\n",
              "      <th>alc</th>\n",
              "    </tr>\n",
              "  </thead>\n",
              "  <tbody>\n",
              "    <tr>\n",
              "      <th>0</th>\n",
              "      <td>0</td>\n",
              "      <td>Aberfeldy</td>\n",
              "      <td>0.0</td>\n",
              "      <td>2.0</td>\n",
              "      <td>2.0</td>\n",
              "      <td>2.0</td>\n",
              "      <td>0.0</td>\n",
              "      <td>0.0</td>\n",
              "      <td>2.0</td>\n",
              "      <td>1.0</td>\n",
              "      <td>2.0</td>\n",
              "      <td>2.0</td>\n",
              "      <td>2.0</td>\n",
              "      <td>2.0</td>\n",
              "      <td>2.0</td>\n",
              "      <td>286580.0</td>\n",
              "      <td>749680.0</td>\n",
              "      <td>46.230769</td>\n",
              "      <td>86.692308</td>\n",
              "      <td>131.000000</td>\n",
              "      <td>46.230769</td>\n",
              "    </tr>\n",
              "    <tr>\n",
              "      <th>1</th>\n",
              "      <td>1</td>\n",
              "      <td>Aberlour</td>\n",
              "      <td>1.0</td>\n",
              "      <td>3.0</td>\n",
              "      <td>3.0</td>\n",
              "      <td>1.0</td>\n",
              "      <td>0.0</td>\n",
              "      <td>0.0</td>\n",
              "      <td>4.0</td>\n",
              "      <td>3.0</td>\n",
              "      <td>2.0</td>\n",
              "      <td>2.0</td>\n",
              "      <td>3.0</td>\n",
              "      <td>3.0</td>\n",
              "      <td>2.0</td>\n",
              "      <td>326340.0</td>\n",
              "      <td>842570.0</td>\n",
              "      <td>49.333333</td>\n",
              "      <td>87.666667</td>\n",
              "      <td>80.600000</td>\n",
              "      <td>49.333333</td>\n",
              "    </tr>\n",
              "    <tr>\n",
              "      <th>2</th>\n",
              "      <td>2</td>\n",
              "      <td>AnCnoc</td>\n",
              "      <td>2.0</td>\n",
              "      <td>1.0</td>\n",
              "      <td>3.0</td>\n",
              "      <td>2.0</td>\n",
              "      <td>0.0</td>\n",
              "      <td>0.0</td>\n",
              "      <td>2.0</td>\n",
              "      <td>0.0</td>\n",
              "      <td>0.0</td>\n",
              "      <td>2.0</td>\n",
              "      <td>2.0</td>\n",
              "      <td>3.0</td>\n",
              "      <td>2.0</td>\n",
              "      <td>352960.0</td>\n",
              "      <td>839320.0</td>\n",
              "      <td>45.000000</td>\n",
              "      <td>89.000000</td>\n",
              "      <td>178.800000</td>\n",
              "      <td>45.000000</td>\n",
              "    </tr>\n",
              "    <tr>\n",
              "      <th>3</th>\n",
              "      <td>3</td>\n",
              "      <td>Ardbeg</td>\n",
              "      <td>3.0</td>\n",
              "      <td>4.0</td>\n",
              "      <td>1.0</td>\n",
              "      <td>4.0</td>\n",
              "      <td>4.0</td>\n",
              "      <td>0.0</td>\n",
              "      <td>0.0</td>\n",
              "      <td>2.0</td>\n",
              "      <td>0.0</td>\n",
              "      <td>1.0</td>\n",
              "      <td>2.0</td>\n",
              "      <td>1.0</td>\n",
              "      <td>0.0</td>\n",
              "      <td>141560.0</td>\n",
              "      <td>646220.0</td>\n",
              "      <td>50.344828</td>\n",
              "      <td>89.833333</td>\n",
              "      <td>1464.200000</td>\n",
              "      <td>50.344828</td>\n",
              "    </tr>\n",
              "    <tr>\n",
              "      <th>4</th>\n",
              "      <td>4</td>\n",
              "      <td>Ardmore</td>\n",
              "      <td>4.0</td>\n",
              "      <td>2.0</td>\n",
              "      <td>2.0</td>\n",
              "      <td>2.0</td>\n",
              "      <td>0.0</td>\n",
              "      <td>0.0</td>\n",
              "      <td>1.0</td>\n",
              "      <td>1.0</td>\n",
              "      <td>1.0</td>\n",
              "      <td>2.0</td>\n",
              "      <td>3.0</td>\n",
              "      <td>1.0</td>\n",
              "      <td>1.0</td>\n",
              "      <td>355350.0</td>\n",
              "      <td>829140.0</td>\n",
              "      <td>50.000000</td>\n",
              "      <td>86.571429</td>\n",
              "      <td>156.428571</td>\n",
              "      <td>50.000000</td>\n",
              "    </tr>\n",
              "  </tbody>\n",
              "</table>\n",
              "</div>"
            ],
            "text/plain": [
              "   Unnamed: 0 Distillery  DistCode  ...  review_point        price        alc\n",
              "0           0  Aberfeldy       0.0  ...     86.692308   131.000000  46.230769\n",
              "1           1   Aberlour       1.0  ...     87.666667    80.600000  49.333333\n",
              "2           2     AnCnoc       2.0  ...     89.000000   178.800000  45.000000\n",
              "3           3     Ardbeg       3.0  ...     89.833333  1464.200000  50.344828\n",
              "4           4    Ardmore       4.0  ...     86.571429   156.428571  50.000000\n",
              "\n",
              "[5 rows x 21 columns]"
            ]
          },
          "metadata": {},
          "execution_count": 75
        }
      ]
    },
    {
      "cell_type": "code",
      "metadata": {
        "id": "9QZSK9GwtcKA"
      },
      "source": [
        "project_whiskey_quant['alc'] = project_whiskey_quant['%alc']"
      ],
      "execution_count": null,
      "outputs": []
    },
    {
      "cell_type": "code",
      "metadata": {
        "colab": {
          "base_uri": "https://localhost:8080/"
        },
        "id": "omRKIhKqhl2A",
        "outputId": "643d4b33-8b69-4aa8-b0b8-3dd7d4e86bb7"
      },
      "source": [
        "#using all independent variables to predict review point\n",
        "linearmodel1 = str('review_point ~ Body + Sweetness + Smoky + Medicinal + Tobacco + Honey + Spicy + Winey + Nutty + Malty + Fruity + Floral + alc + price')\n",
        "\n",
        "train_model_fit1 = smf.ols(linearmodel1, data = project_whiskey_quant).fit()\n",
        "\n",
        "print(train_model_fit1.summary())"
      ],
      "execution_count": null,
      "outputs": [
        {
          "output_type": "stream",
          "name": "stdout",
          "text": [
            "                            OLS Regression Results                            \n",
            "==============================================================================\n",
            "Dep. Variable:           review_point   R-squared:                       0.361\n",
            "Model:                            OLS   Adj. R-squared:                  0.235\n",
            "Method:                 Least Squares   F-statistic:                     2.864\n",
            "Date:                Thu, 02 Dec 2021   Prob (F-statistic):            0.00185\n",
            "Time:                        05:56:19   Log-Likelihood:                -168.66\n",
            "No. Observations:                  86   AIC:                             367.3\n",
            "Df Residuals:                      71   BIC:                             404.1\n",
            "Df Model:                          14                                         \n",
            "Covariance Type:            nonrobust                                         \n",
            "==============================================================================\n",
            "                 coef    std err          t      P>|t|      [0.025      0.975]\n",
            "------------------------------------------------------------------------------\n",
            "Intercept     75.2030      4.391     17.126      0.000      66.447      83.959\n",
            "Body          -0.3803      0.332     -1.147      0.255      -1.041       0.281\n",
            "Sweetness      0.5693      0.331      1.719      0.090      -0.091       1.230\n",
            "Smoky          1.0390      0.399      2.605      0.011       0.244       1.834\n",
            "Medicinal      0.7015      0.352      1.995      0.050       0.000       1.403\n",
            "Tobacco       -0.5005      0.749     -0.668      0.506      -1.995       0.994\n",
            "Honey          0.1819      0.300      0.606      0.546      -0.416       0.780\n",
            "Spicy         -0.1970      0.289     -0.683      0.497      -0.772       0.378\n",
            "Winey          0.7640      0.281      2.716      0.008       0.203       1.325\n",
            "Nutty         -0.0464      0.269     -0.172      0.864      -0.583       0.490\n",
            "Malty          0.2803      0.366      0.765      0.447      -0.450       1.011\n",
            "Fruity         0.5175      0.310      1.667      0.100      -0.102       1.137\n",
            "Floral         0.2472      0.312      0.793      0.430      -0.374       0.869\n",
            "alc            0.1138      0.083      1.368      0.176      -0.052       0.280\n",
            "price          0.0010      0.000      2.648      0.010       0.000       0.002\n",
            "==============================================================================\n",
            "Omnibus:                       51.830   Durbin-Watson:                   1.635\n",
            "Prob(Omnibus):                  0.000   Jarque-Bera (JB):              277.118\n",
            "Skew:                          -1.765   Prob(JB):                     6.68e-61\n",
            "Kurtosis:                      11.055   Cond. No.                     1.51e+04\n",
            "==============================================================================\n",
            "\n",
            "Warnings:\n",
            "[1] Standard Errors assume that the covariance matrix of the errors is correctly specified.\n",
            "[2] The condition number is large, 1.51e+04. This might indicate that there are\n",
            "strong multicollinearity or other numerical problems.\n"
          ]
        }
      ]
    },
    {
      "cell_type": "code",
      "metadata": {
        "colab": {
          "base_uri": "https://localhost:8080/"
        },
        "id": "CxMtjcXDjB_b",
        "outputId": "9ce4a21e-3a76-468e-a8cb-4276ac0dab68"
      },
      "source": [
        "#removed tobacco, honey, nutty from model\n",
        "linearmodel2 = str('review_point ~ Body + Sweetness + Smoky + Medicinal + Spicy + Winey + Malty + Fruity + Floral + alc + price')\n",
        "\n",
        "train_model_fit2 = smf.ols(linearmodel2, data = project_whiskey_quant).fit()\n",
        "\n",
        "print(train_model_fit2.summary())"
      ],
      "execution_count": null,
      "outputs": [
        {
          "output_type": "stream",
          "name": "stdout",
          "text": [
            "                            OLS Regression Results                            \n",
            "==============================================================================\n",
            "Dep. Variable:           review_point   R-squared:                       0.352\n",
            "Model:                            OLS   Adj. R-squared:                  0.255\n",
            "Method:                 Least Squares   F-statistic:                     3.649\n",
            "Date:                Thu, 02 Dec 2021   Prob (F-statistic):           0.000372\n",
            "Time:                        05:58:04   Log-Likelihood:                -169.28\n",
            "No. Observations:                  86   AIC:                             362.6\n",
            "Df Residuals:                      74   BIC:                             392.0\n",
            "Df Model:                          11                                         \n",
            "Covariance Type:            nonrobust                                         \n",
            "==============================================================================\n",
            "                 coef    std err          t      P>|t|      [0.025      0.975]\n",
            "------------------------------------------------------------------------------\n",
            "Intercept     74.7915      4.284     17.460      0.000      66.256      83.327\n",
            "Body          -0.3495      0.322     -1.087      0.281      -0.990       0.291\n",
            "Sweetness      0.5658      0.326      1.736      0.087      -0.083       1.215\n",
            "Smoky          1.0022      0.391      2.562      0.012       0.223       1.782\n",
            "Medicinal      0.5909      0.329      1.799      0.076      -0.064       1.246\n",
            "Spicy         -0.1719      0.281     -0.611      0.543      -0.733       0.389\n",
            "Winey          0.7702      0.266      2.899      0.005       0.241       1.300\n",
            "Malty          0.3250      0.349      0.932      0.354      -0.370       1.020\n",
            "Fruity         0.5122      0.301      1.700      0.093      -0.088       1.112\n",
            "Floral         0.2556      0.305      0.839      0.404      -0.351       0.862\n",
            "alc            0.1231      0.081      1.520      0.133      -0.038       0.284\n",
            "price          0.0010      0.000      2.827      0.006       0.000       0.002\n",
            "==============================================================================\n",
            "Omnibus:                       46.433   Durbin-Watson:                   1.627\n",
            "Prob(Omnibus):                  0.000   Jarque-Bera (JB):              222.023\n",
            "Skew:                          -1.579   Prob(JB):                     6.14e-49\n",
            "Kurtosis:                      10.210   Cond. No.                     1.50e+04\n",
            "==============================================================================\n",
            "\n",
            "Warnings:\n",
            "[1] Standard Errors assume that the covariance matrix of the errors is correctly specified.\n",
            "[2] The condition number is large, 1.5e+04. This might indicate that there are\n",
            "strong multicollinearity or other numerical problems.\n"
          ]
        }
      ]
    },
    {
      "cell_type": "code",
      "metadata": {
        "colab": {
          "base_uri": "https://localhost:8080/"
        },
        "id": "2cffQI2apaVj",
        "outputId": "5e7b9ee7-e193-461d-cacc-f3a4595d3f89"
      },
      "source": [
        "linearmodel9 = str('review_point ~ Body + Sweetness + Smoky + Medicinal + Winey + Malty + Fruity + Floral + alc + price')\n",
        "\n",
        "train_model_fit9 = smf.ols(linearmodel9, data = project_whiskey_quant).fit()\n",
        "\n",
        "print(train_model_fit9.summary())"
      ],
      "execution_count": null,
      "outputs": [
        {
          "output_type": "stream",
          "name": "stdout",
          "text": [
            "                            OLS Regression Results                            \n",
            "==============================================================================\n",
            "Dep. Variable:           review_point   R-squared:                       0.348\n",
            "Model:                            OLS   Adj. R-squared:                  0.262\n",
            "Method:                 Least Squares   F-statistic:                     4.011\n",
            "Date:                Thu, 02 Dec 2021   Prob (F-statistic):           0.000203\n",
            "Time:                        06:00:06   Log-Likelihood:                -169.49\n",
            "No. Observations:                  86   AIC:                             361.0\n",
            "Df Residuals:                      75   BIC:                             388.0\n",
            "Df Model:                          10                                         \n",
            "Covariance Type:            nonrobust                                         \n",
            "==============================================================================\n",
            "                 coef    std err          t      P>|t|      [0.025      0.975]\n",
            "------------------------------------------------------------------------------\n",
            "Intercept     74.5638      4.249     17.547      0.000      66.098      83.029\n",
            "Body          -0.3598      0.320     -1.125      0.264      -0.997       0.277\n",
            "Sweetness      0.5576      0.324      1.720      0.090      -0.088       1.203\n",
            "Smoky          0.9360      0.374      2.500      0.015       0.190       1.682\n",
            "Medicinal      0.6035      0.327      1.848      0.069      -0.047       1.254\n",
            "Winey          0.7638      0.264      2.889      0.005       0.237       1.291\n",
            "Malty          0.3214      0.347      0.926      0.358      -0.370       1.013\n",
            "Fruity         0.4819      0.296      1.629      0.108      -0.107       1.071\n",
            "Floral         0.2310      0.301      0.768      0.445      -0.368       0.830\n",
            "alc            0.1281      0.080      1.597      0.114      -0.032       0.288\n",
            "price          0.0010      0.000      2.789      0.007       0.000       0.002\n",
            "==============================================================================\n",
            "Omnibus:                       47.485   Durbin-Watson:                   1.672\n",
            "Prob(Omnibus):                  0.000   Jarque-Bera (JB):              233.728\n",
            "Skew:                          -1.611   Prob(JB):                     1.76e-51\n",
            "Kurtosis:                      10.406   Cond. No.                     1.49e+04\n",
            "==============================================================================\n",
            "\n",
            "Warnings:\n",
            "[1] Standard Errors assume that the covariance matrix of the errors is correctly specified.\n",
            "[2] The condition number is large, 1.49e+04. This might indicate that there are\n",
            "strong multicollinearity or other numerical problems.\n"
          ]
        }
      ]
    },
    {
      "cell_type": "code",
      "metadata": {
        "colab": {
          "base_uri": "https://localhost:8080/"
        },
        "id": "TmmPgfvMl0O9",
        "outputId": "0372b4ca-e8da-402e-8585-b2df7f4a8772"
      },
      "source": [
        "linearmodel3 = str('price ~ Body + Sweetness + Smoky + Tobacco + Honey + Spicy + Nutty + Fruity + Floral + review_point')\n",
        "\n",
        "train_model_fit3 = smf.ols(linearmodel3, data = project_whiskey_quant).fit()\n",
        "\n",
        "print(train_model_fit3.summary())"
      ],
      "execution_count": null,
      "outputs": [
        {
          "output_type": "stream",
          "name": "stdout",
          "text": [
            "                            OLS Regression Results                            \n",
            "==============================================================================\n",
            "Dep. Variable:                  price   R-squared:                       0.204\n",
            "Model:                            OLS   Adj. R-squared:                  0.097\n",
            "Method:                 Least Squares   F-statistic:                     1.917\n",
            "Date:                Thu, 02 Dec 2021   Prob (F-statistic):             0.0557\n",
            "Time:                        05:27:27   Log-Likelihood:                -661.48\n",
            "No. Observations:                  86   AIC:                             1345.\n",
            "Df Residuals:                      75   BIC:                             1372.\n",
            "Df Model:                          10                                         \n",
            "Covariance Type:            nonrobust                                         \n",
            "================================================================================\n",
            "                   coef    std err          t      P>|t|      [0.025      0.975]\n",
            "--------------------------------------------------------------------------------\n",
            "Intercept    -7094.2466   2601.374     -2.727      0.008   -1.23e+04   -1912.043\n",
            "Body           107.9594     88.979      1.213      0.229     -69.296     285.215\n",
            "Sweetness      -61.0242     96.646     -0.631      0.530    -253.552     131.504\n",
            "Smoky         -191.5579    113.067     -1.694      0.094    -416.798      33.683\n",
            "Tobacco        -57.7953    213.242     -0.271      0.787    -482.595     367.005\n",
            "Honey          -24.8937     81.310     -0.306      0.760    -186.872     137.085\n",
            "Spicy           90.8181     85.752      1.059      0.293     -80.010     261.646\n",
            "Nutty         -154.3684     77.846     -1.983      0.051    -309.446       0.709\n",
            "Fruity          38.6313     92.150      0.419      0.676    -144.940     222.203\n",
            "Floral         -61.5031     88.253     -0.697      0.488    -237.312     114.305\n",
            "review_point    91.3912     31.247      2.925      0.005      29.145     153.638\n",
            "==============================================================================\n",
            "Omnibus:                       74.987   Durbin-Watson:                   2.077\n",
            "Prob(Omnibus):                  0.000   Jarque-Bera (JB):              486.944\n",
            "Skew:                           2.805   Prob(JB):                    1.83e-106\n",
            "Kurtosis:                      13.219   Cond. No.                     3.66e+03\n",
            "==============================================================================\n",
            "\n",
            "Warnings:\n",
            "[1] Standard Errors assume that the covariance matrix of the errors is correctly specified.\n",
            "[2] The condition number is large, 3.66e+03. This might indicate that there are\n",
            "strong multicollinearity or other numerical problems.\n"
          ]
        }
      ]
    },
    {
      "cell_type": "code",
      "metadata": {
        "colab": {
          "base_uri": "https://localhost:8080/"
        },
        "id": "FyA79q6tmjhe",
        "outputId": "be940ef7-71cd-47c9-be48-f4d24f899a83"
      },
      "source": [
        "linearmodel4 = str('price ~ Body + Sweetness + Smoky + Spicy + Nutty + Fruity + Floral + review_point')\n",
        "\n",
        "train_model_fit4 = smf.ols(linearmodel4, data = project_whiskey_quant).fit()\n",
        "\n",
        "print(train_model_fit4.summary())"
      ],
      "execution_count": null,
      "outputs": [
        {
          "output_type": "stream",
          "name": "stdout",
          "text": [
            "                            OLS Regression Results                            \n",
            "==============================================================================\n",
            "Dep. Variable:                  price   R-squared:                       0.202\n",
            "Model:                            OLS   Adj. R-squared:                  0.119\n",
            "Method:                 Least Squares   F-statistic:                     2.438\n",
            "Date:                Thu, 02 Dec 2021   Prob (F-statistic):             0.0209\n",
            "Time:                        05:28:20   Log-Likelihood:                -661.56\n",
            "No. Observations:                  86   AIC:                             1341.\n",
            "Df Residuals:                      77   BIC:                             1363.\n",
            "Df Model:                           8                                         \n",
            "Covariance Type:            nonrobust                                         \n",
            "================================================================================\n",
            "                   coef    std err          t      P>|t|      [0.025      0.975]\n",
            "--------------------------------------------------------------------------------\n",
            "Intercept    -7050.1709   2552.455     -2.762      0.007   -1.21e+04   -1967.583\n",
            "Body           101.7732     85.664      1.188      0.238     -68.805     272.352\n",
            "Sweetness      -61.2039     95.448     -0.641      0.523    -251.265     128.857\n",
            "Smoky         -189.6980    106.589     -1.780      0.079    -401.943      22.547\n",
            "Spicy           86.1678     83.343      1.034      0.304     -79.790     252.126\n",
            "Nutty         -156.1658     75.545     -2.067      0.042    -306.595      -5.736\n",
            "Fruity          43.8039     89.967      0.487      0.628    -135.343     222.951\n",
            "Floral         -65.0136     85.993     -0.756      0.452    -236.247     106.220\n",
            "review_point    90.6266     30.624      2.959      0.004      29.647     151.607\n",
            "==============================================================================\n",
            "Omnibus:                       74.467   Durbin-Watson:                   2.067\n",
            "Prob(Omnibus):                  0.000   Jarque-Bera (JB):              478.869\n",
            "Skew:                           2.783   Prob(JB):                    1.03e-104\n",
            "Kurtosis:                      13.132   Cond. No.                     3.64e+03\n",
            "==============================================================================\n",
            "\n",
            "Warnings:\n",
            "[1] Standard Errors assume that the covariance matrix of the errors is correctly specified.\n",
            "[2] The condition number is large, 3.64e+03. This might indicate that there are\n",
            "strong multicollinearity or other numerical problems.\n"
          ]
        }
      ]
    },
    {
      "cell_type": "code",
      "metadata": {
        "colab": {
          "base_uri": "https://localhost:8080/"
        },
        "id": "Q02iVA2km40V",
        "outputId": "f5694f26-591d-4756-be2d-111ff5147d1f"
      },
      "source": [
        "linearmodel5 = str('price ~ Body + Smoky + Spicy + Nutty + Floral + review_point')\n",
        "\n",
        "train_model_fit5 = smf.ols(linearmodel5, data = project_whiskey_quant).fit()\n",
        "\n",
        "print(train_model_fit5.summary())"
      ],
      "execution_count": null,
      "outputs": [
        {
          "output_type": "stream",
          "name": "stdout",
          "text": [
            "                            OLS Regression Results                            \n",
            "==============================================================================\n",
            "Dep. Variable:                  price   R-squared:                       0.194\n",
            "Model:                            OLS   Adj. R-squared:                  0.133\n",
            "Method:                 Least Squares   F-statistic:                     3.169\n",
            "Date:                Thu, 02 Dec 2021   Prob (F-statistic):            0.00774\n",
            "Time:                        05:29:25   Log-Likelihood:                -661.99\n",
            "No. Observations:                  86   AIC:                             1338.\n",
            "Df Residuals:                      79   BIC:                             1355.\n",
            "Df Model:                           6                                         \n",
            "Covariance Type:            nonrobust                                         \n",
            "================================================================================\n",
            "                   coef    std err          t      P>|t|      [0.025      0.975]\n",
            "--------------------------------------------------------------------------------\n",
            "Intercept    -7194.7812   2514.380     -2.861      0.005   -1.22e+04   -2190.032\n",
            "Body           105.5677     82.851      1.274      0.206     -59.343     270.478\n",
            "Smoky         -181.5220     88.765     -2.045      0.044    -358.205      -4.839\n",
            "Spicy           92.3450     80.904      1.141      0.257     -68.691     253.381\n",
            "Nutty         -151.6756     74.791     -2.028      0.046    -300.544      -2.807\n",
            "Floral         -56.6539     83.958     -0.675      0.502    -223.767     110.459\n",
            "review_point    91.0181     29.707      3.064      0.003      31.887     150.149\n",
            "==============================================================================\n",
            "Omnibus:                       76.704   Durbin-Watson:                   2.064\n",
            "Prob(Omnibus):                  0.000   Jarque-Bera (JB):              530.992\n",
            "Skew:                           2.857   Prob(JB):                    4.97e-116\n",
            "Kurtosis:                      13.749   Cond. No.                     3.61e+03\n",
            "==============================================================================\n",
            "\n",
            "Warnings:\n",
            "[1] Standard Errors assume that the covariance matrix of the errors is correctly specified.\n",
            "[2] The condition number is large, 3.61e+03. This might indicate that there are\n",
            "strong multicollinearity or other numerical problems.\n"
          ]
        }
      ]
    },
    {
      "cell_type": "code",
      "metadata": {
        "colab": {
          "base_uri": "https://localhost:8080/"
        },
        "id": "lzuhfQDMnWJm",
        "outputId": "537b2984-7adc-4db7-b548-157ab8711423"
      },
      "source": [
        "linearmodel6 = str('price ~ Smoky + Nutty + review_point')\n",
        "\n",
        "train_model_fit6 = smf.ols(linearmodel6, data = project_whiskey_quant).fit()\n",
        "\n",
        "print(train_model_fit6.summary())"
      ],
      "execution_count": null,
      "outputs": [
        {
          "output_type": "stream",
          "name": "stdout",
          "text": [
            "                            OLS Regression Results                            \n",
            "==============================================================================\n",
            "Dep. Variable:                  price   R-squared:                       0.150\n",
            "Model:                            OLS   Adj. R-squared:                  0.118\n",
            "Method:                 Least Squares   F-statistic:                     4.807\n",
            "Date:                Thu, 02 Dec 2021   Prob (F-statistic):            0.00391\n",
            "Time:                        05:32:15   Log-Likelihood:                -664.30\n",
            "No. Observations:                  86   AIC:                             1337.\n",
            "Df Residuals:                      82   BIC:                             1346.\n",
            "Df Model:                           3                                         \n",
            "Covariance Type:            nonrobust                                         \n",
            "================================================================================\n",
            "                   coef    std err          t      P>|t|      [0.025      0.975]\n",
            "--------------------------------------------------------------------------------\n",
            "Intercept    -7637.6080   2519.601     -3.031      0.003   -1.26e+04   -2625.320\n",
            "Smoky          -82.8387     74.322     -1.115      0.268    -230.688      65.011\n",
            "Nutty         -138.6805     74.048     -1.873      0.065    -285.985       8.625\n",
            "review_point    97.0976     29.660      3.274      0.002      38.094     156.102\n",
            "==============================================================================\n",
            "Omnibus:                       84.036   Durbin-Watson:                   1.973\n",
            "Prob(Omnibus):                  0.000   Jarque-Bera (JB):              685.592\n",
            "Skew:                           3.159   Prob(JB):                    1.34e-149\n",
            "Kurtosis:                      15.305   Cond. No.                     3.58e+03\n",
            "==============================================================================\n",
            "\n",
            "Warnings:\n",
            "[1] Standard Errors assume that the covariance matrix of the errors is correctly specified.\n",
            "[2] The condition number is large, 3.58e+03. This might indicate that there are\n",
            "strong multicollinearity or other numerical problems.\n"
          ]
        }
      ]
    },
    {
      "cell_type": "code",
      "metadata": {
        "colab": {
          "base_uri": "https://localhost:8080/"
        },
        "id": "W1U-46zJoQN3",
        "outputId": "475bd1bb-c427-4b47-ef1b-b3c9246cef0b"
      },
      "source": [
        "linearmodel7 = str('price ~ review_point')\n",
        "\n",
        "train_model_fit7 = smf.ols(linearmodel7, data = project_whiskey_quant).fit()\n",
        "\n",
        "print(train_model_fit7.summary())"
      ],
      "execution_count": null,
      "outputs": [
        {
          "output_type": "stream",
          "name": "stdout",
          "text": [
            "                            OLS Regression Results                            \n",
            "==============================================================================\n",
            "Dep. Variable:                  price   R-squared:                       0.101\n",
            "Model:                            OLS   Adj. R-squared:                  0.090\n",
            "Method:                 Least Squares   F-statistic:                     9.438\n",
            "Date:                Thu, 02 Dec 2021   Prob (F-statistic):            0.00286\n",
            "Time:                        05:32:51   Log-Likelihood:                -666.69\n",
            "No. Observations:                  86   AIC:                             1337.\n",
            "Df Residuals:                      84   BIC:                             1342.\n",
            "Df Model:                           1                                         \n",
            "Covariance Type:            nonrobust                                         \n",
            "================================================================================\n",
            "                   coef    std err          t      P>|t|      [0.025      0.975]\n",
            "--------------------------------------------------------------------------------\n",
            "Intercept    -7162.0317   2454.336     -2.918      0.005    -1.2e+04   -2281.314\n",
            "review_point    87.7191     28.553      3.072      0.003      30.939     144.499\n",
            "==============================================================================\n",
            "Omnibus:                       90.059   Durbin-Watson:                   2.046\n",
            "Prob(Omnibus):                  0.000   Jarque-Bera (JB):              826.808\n",
            "Skew:                           3.431   Prob(JB):                    2.89e-180\n",
            "Kurtosis:                      16.552   Cond. No.                     3.44e+03\n",
            "==============================================================================\n",
            "\n",
            "Warnings:\n",
            "[1] Standard Errors assume that the covariance matrix of the errors is correctly specified.\n",
            "[2] The condition number is large, 3.44e+03. This might indicate that there are\n",
            "strong multicollinearity or other numerical problems.\n"
          ]
        }
      ]
    },
    {
      "cell_type": "code",
      "metadata": {
        "id": "UpsOXqO-oZC2"
      },
      "source": [
        "#code for train & test set \n",
        "np.random.seed(5426)\n",
        "project_whiskey_quant['runiform'] = uniform.rvs(loc = 0, scale = 1, size = len(project_whiskey_quant))\n",
        "whiskey_train = project_whiskey_quant[project_whiskey_quant['runiform'] >= 0.33]\n",
        "whiskey_test = project_whiskey_quant[project_whiskey_quant['runiform'] < 0.33]"
      ],
      "execution_count": null,
      "outputs": []
    },
    {
      "cell_type": "code",
      "metadata": {
        "colab": {
          "base_uri": "https://localhost:8080/"
        },
        "id": "_Ru-wkPWv1ox",
        "outputId": "6a579aac-d459-489d-94be-60c8db744781"
      },
      "source": [
        "#using whiskey train set to lok at ols model\n",
        "my_model2 = str('review_point ~ price + Winey + Smoky')\n",
        "\n",
        "train_model_fit = smf.ols(my_model2, data = whiskey_train).fit()\n",
        "\n",
        "print(train_model_fit.summary())"
      ],
      "execution_count": null,
      "outputs": [
        {
          "output_type": "stream",
          "name": "stdout",
          "text": [
            "                            OLS Regression Results                            \n",
            "==============================================================================\n",
            "Dep. Variable:           review_point   R-squared:                       0.255\n",
            "Model:                            OLS   Adj. R-squared:                  0.215\n",
            "Method:                 Least Squares   F-statistic:                     6.491\n",
            "Date:                Thu, 02 Dec 2021   Prob (F-statistic):           0.000744\n",
            "Time:                        06:06:41   Log-Likelihood:                -128.00\n",
            "No. Observations:                  61   AIC:                             264.0\n",
            "Df Residuals:                      57   BIC:                             272.5\n",
            "Df Model:                           3                                         \n",
            "Covariance Type:            nonrobust                                         \n",
            "==============================================================================\n",
            "                 coef    std err          t      P>|t|      [0.025      0.975]\n",
            "------------------------------------------------------------------------------\n",
            "Intercept     83.4470      0.658    126.793      0.000      82.129      84.765\n",
            "price          0.0010      0.000      1.998      0.050   -2.09e-06       0.002\n",
            "Winey          0.6174      0.304      2.033      0.047       0.009       1.226\n",
            "Smoky          0.9415      0.338      2.783      0.007       0.264       1.619\n",
            "==============================================================================\n",
            "Omnibus:                       43.818   Durbin-Watson:                   1.697\n",
            "Prob(Omnibus):                  0.000   Jarque-Bera (JB):              178.112\n",
            "Skew:                          -1.987   Prob(JB):                     2.11e-39\n",
            "Kurtosis:                      10.368   Cond. No.                     1.85e+03\n",
            "==============================================================================\n",
            "\n",
            "Warnings:\n",
            "[1] Standard Errors assume that the covariance matrix of the errors is correctly specified.\n",
            "[2] The condition number is large, 1.85e+03. This might indicate that there are\n",
            "strong multicollinearity or other numerical problems.\n"
          ]
        }
      ]
    },
    {
      "cell_type": "code",
      "metadata": {
        "colab": {
          "base_uri": "https://localhost:8080/"
        },
        "id": "dZRnWbkUwHi4",
        "outputId": "6c54b511-e02a-413d-9b5f-0711f256378c"
      },
      "source": [
        "#using training data for mixed lm model\n",
        "import statsmodels.formula.api as smf\n",
        "model21 = smf.mixedlm(\"review_point ~ price + Winey + Smoky\", whiskey_train, groups=whiskey_train[\"review_point\"])\n",
        "\n",
        "model2f = model21.fit()\n",
        "\n",
        "print(model2f.summary())"
      ],
      "execution_count": null,
      "outputs": [
        {
          "output_type": "stream",
          "name": "stdout",
          "text": [
            "          Mixed Linear Model Regression Results\n",
            "==========================================================\n",
            "Model:            MixedLM Dependent Variable: review_point\n",
            "No. Observations: 61      Method:             REML        \n",
            "No. Groups:       54      Scale:              0.0000      \n",
            "Min. group size:  1       Likelihood:         -102.7944   \n",
            "Max. group size:  2       Converged:          Yes         \n",
            "Mean group size:  1.1                                     \n",
            "----------------------------------------------------------\n",
            "              Coef.   Std.Err.    z    P>|z| [0.025 0.975]\n",
            "----------------------------------------------------------\n",
            "Intercept     85.771     0.311 275.685 0.000 85.161 86.381\n",
            "price          0.000     0.000   0.003 0.998 -0.000  0.000\n",
            "Winey         -0.000     0.000  -0.001 0.999 -0.000  0.000\n",
            "Smoky          0.000     0.000   0.001 0.999 -0.001  0.001\n",
            "Group Var      5.227 14294.935                            \n",
            "==========================================================\n",
            "\n"
          ]
        }
      ]
    },
    {
      "cell_type": "code",
      "metadata": {
        "id": "g2vkL-ttxkt4"
      },
      "source": [
        ""
      ],
      "execution_count": null,
      "outputs": []
    }
  ]
}